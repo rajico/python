{
  "nbformat": 4,
  "nbformat_minor": 0,
  "metadata": {
    "colab": {
      "provenance": []
    },
    "kernelspec": {
      "name": "python3",
      "display_name": "Python 3"
    },
    "language_info": {
      "name": "python"
    }
  },
  "cells": [
    {
      "cell_type": "markdown",
      "source": [
        "Importamos el dataset"
      ],
      "metadata": {
        "id": "VsFLzT1YvAK3"
      }
    },
    {
      "cell_type": "code",
      "execution_count": null,
      "metadata": {
        "colab": {
          "base_uri": "https://localhost:8080/",
          "height": 92
        },
        "id": "SPeNi8VeJj2G",
        "outputId": "a4bd4704-a5b9-49c9-95a9-827beb1af02c"
      },
      "outputs": [
        {
          "output_type": "display_data",
          "data": {
            "text/plain": [
              "<IPython.core.display.HTML object>"
            ],
            "text/html": [
              "\n",
              "     <input type=\"file\" id=\"files-2f46bae6-3aee-4878-a1c0-334b1556e4a3\" name=\"files[]\" multiple disabled\n",
              "        style=\"border:none\" />\n",
              "     <output id=\"result-2f46bae6-3aee-4878-a1c0-334b1556e4a3\">\n",
              "      Upload widget is only available when the cell has been executed in the\n",
              "      current browser session. Please rerun this cell to enable.\n",
              "      </output>\n",
              "      <script>// Copyright 2017 Google LLC\n",
              "//\n",
              "// Licensed under the Apache License, Version 2.0 (the \"License\");\n",
              "// you may not use this file except in compliance with the License.\n",
              "// You may obtain a copy of the License at\n",
              "//\n",
              "//      http://www.apache.org/licenses/LICENSE-2.0\n",
              "//\n",
              "// Unless required by applicable law or agreed to in writing, software\n",
              "// distributed under the License is distributed on an \"AS IS\" BASIS,\n",
              "// WITHOUT WARRANTIES OR CONDITIONS OF ANY KIND, either express or implied.\n",
              "// See the License for the specific language governing permissions and\n",
              "// limitations under the License.\n",
              "\n",
              "/**\n",
              " * @fileoverview Helpers for google.colab Python module.\n",
              " */\n",
              "(function(scope) {\n",
              "function span(text, styleAttributes = {}) {\n",
              "  const element = document.createElement('span');\n",
              "  element.textContent = text;\n",
              "  for (const key of Object.keys(styleAttributes)) {\n",
              "    element.style[key] = styleAttributes[key];\n",
              "  }\n",
              "  return element;\n",
              "}\n",
              "\n",
              "// Max number of bytes which will be uploaded at a time.\n",
              "const MAX_PAYLOAD_SIZE = 100 * 1024;\n",
              "\n",
              "function _uploadFiles(inputId, outputId) {\n",
              "  const steps = uploadFilesStep(inputId, outputId);\n",
              "  const outputElement = document.getElementById(outputId);\n",
              "  // Cache steps on the outputElement to make it available for the next call\n",
              "  // to uploadFilesContinue from Python.\n",
              "  outputElement.steps = steps;\n",
              "\n",
              "  return _uploadFilesContinue(outputId);\n",
              "}\n",
              "\n",
              "// This is roughly an async generator (not supported in the browser yet),\n",
              "// where there are multiple asynchronous steps and the Python side is going\n",
              "// to poll for completion of each step.\n",
              "// This uses a Promise to block the python side on completion of each step,\n",
              "// then passes the result of the previous step as the input to the next step.\n",
              "function _uploadFilesContinue(outputId) {\n",
              "  const outputElement = document.getElementById(outputId);\n",
              "  const steps = outputElement.steps;\n",
              "\n",
              "  const next = steps.next(outputElement.lastPromiseValue);\n",
              "  return Promise.resolve(next.value.promise).then((value) => {\n",
              "    // Cache the last promise value to make it available to the next\n",
              "    // step of the generator.\n",
              "    outputElement.lastPromiseValue = value;\n",
              "    return next.value.response;\n",
              "  });\n",
              "}\n",
              "\n",
              "/**\n",
              " * Generator function which is called between each async step of the upload\n",
              " * process.\n",
              " * @param {string} inputId Element ID of the input file picker element.\n",
              " * @param {string} outputId Element ID of the output display.\n",
              " * @return {!Iterable<!Object>} Iterable of next steps.\n",
              " */\n",
              "function* uploadFilesStep(inputId, outputId) {\n",
              "  const inputElement = document.getElementById(inputId);\n",
              "  inputElement.disabled = false;\n",
              "\n",
              "  const outputElement = document.getElementById(outputId);\n",
              "  outputElement.innerHTML = '';\n",
              "\n",
              "  const pickedPromise = new Promise((resolve) => {\n",
              "    inputElement.addEventListener('change', (e) => {\n",
              "      resolve(e.target.files);\n",
              "    });\n",
              "  });\n",
              "\n",
              "  const cancel = document.createElement('button');\n",
              "  inputElement.parentElement.appendChild(cancel);\n",
              "  cancel.textContent = 'Cancel upload';\n",
              "  const cancelPromise = new Promise((resolve) => {\n",
              "    cancel.onclick = () => {\n",
              "      resolve(null);\n",
              "    };\n",
              "  });\n",
              "\n",
              "  // Wait for the user to pick the files.\n",
              "  const files = yield {\n",
              "    promise: Promise.race([pickedPromise, cancelPromise]),\n",
              "    response: {\n",
              "      action: 'starting',\n",
              "    }\n",
              "  };\n",
              "\n",
              "  cancel.remove();\n",
              "\n",
              "  // Disable the input element since further picks are not allowed.\n",
              "  inputElement.disabled = true;\n",
              "\n",
              "  if (!files) {\n",
              "    return {\n",
              "      response: {\n",
              "        action: 'complete',\n",
              "      }\n",
              "    };\n",
              "  }\n",
              "\n",
              "  for (const file of files) {\n",
              "    const li = document.createElement('li');\n",
              "    li.append(span(file.name, {fontWeight: 'bold'}));\n",
              "    li.append(span(\n",
              "        `(${file.type || 'n/a'}) - ${file.size} bytes, ` +\n",
              "        `last modified: ${\n",
              "            file.lastModifiedDate ? file.lastModifiedDate.toLocaleDateString() :\n",
              "                                    'n/a'} - `));\n",
              "    const percent = span('0% done');\n",
              "    li.appendChild(percent);\n",
              "\n",
              "    outputElement.appendChild(li);\n",
              "\n",
              "    const fileDataPromise = new Promise((resolve) => {\n",
              "      const reader = new FileReader();\n",
              "      reader.onload = (e) => {\n",
              "        resolve(e.target.result);\n",
              "      };\n",
              "      reader.readAsArrayBuffer(file);\n",
              "    });\n",
              "    // Wait for the data to be ready.\n",
              "    let fileData = yield {\n",
              "      promise: fileDataPromise,\n",
              "      response: {\n",
              "        action: 'continue',\n",
              "      }\n",
              "    };\n",
              "\n",
              "    // Use a chunked sending to avoid message size limits. See b/62115660.\n",
              "    let position = 0;\n",
              "    do {\n",
              "      const length = Math.min(fileData.byteLength - position, MAX_PAYLOAD_SIZE);\n",
              "      const chunk = new Uint8Array(fileData, position, length);\n",
              "      position += length;\n",
              "\n",
              "      const base64 = btoa(String.fromCharCode.apply(null, chunk));\n",
              "      yield {\n",
              "        response: {\n",
              "          action: 'append',\n",
              "          file: file.name,\n",
              "          data: base64,\n",
              "        },\n",
              "      };\n",
              "\n",
              "      let percentDone = fileData.byteLength === 0 ?\n",
              "          100 :\n",
              "          Math.round((position / fileData.byteLength) * 100);\n",
              "      percent.textContent = `${percentDone}% done`;\n",
              "\n",
              "    } while (position < fileData.byteLength);\n",
              "  }\n",
              "\n",
              "  // All done.\n",
              "  yield {\n",
              "    response: {\n",
              "      action: 'complete',\n",
              "    }\n",
              "  };\n",
              "}\n",
              "\n",
              "scope.google = scope.google || {};\n",
              "scope.google.colab = scope.google.colab || {};\n",
              "scope.google.colab._files = {\n",
              "  _uploadFiles,\n",
              "  _uploadFilesContinue,\n",
              "};\n",
              "})(self);\n",
              "</script> "
            ]
          },
          "metadata": {}
        },
        {
          "output_type": "stream",
          "name": "stdout",
          "text": [
            "Saving bookings.csv to bookings.csv\n",
            "move bookings.csv to dataset/bookings.csv\n"
          ]
        }
      ],
      "source": [
        "import os\n",
        "from google.colab import files\n",
        "import shutil\n",
        "\n",
        "new_folder = 'dataset'\n",
        "\n",
        "if os.path.isdir(new_folder):\n",
        "  shutil.rmtree(new_folder)\n",
        "\n",
        "os.mkdir(new_folder)\n",
        "\n",
        "# Upload Files\n",
        "uploaded = files.upload()\n",
        "for filename in uploaded.keys():\n",
        "  dst_path = os.path.join(new_folder, filename)\n",
        "  print(f'move {filename} to {dst_path}')\n",
        "  shutil.move(filename, dst_path)"
      ]
    },
    {
      "cell_type": "markdown",
      "source": [
        "Importamos las librerías necesarias"
      ],
      "metadata": {
        "id": "625sO1XmvFg2"
      }
    },
    {
      "cell_type": "code",
      "source": [
        "import numpy as np\n",
        "import pandas as pd\n",
        "import seaborn as sns\n",
        "import matplotlib.pyplot as plt\n",
        "\n",
        "from sklearn.metrics import accuracy_score, roc_auc_score, roc_curve, confusion_matrix, auc\n",
        "from sklearn.model_selection import train_test_split\n",
        "from sklearn.preprocessing import LabelEncoder, StandardScaler \n",
        "from sklearn.neural_network import MLPClassifier\n",
        "\n",
        "from warnings import filterwarnings\n",
        "filterwarnings('ignore')"
      ],
      "metadata": {
        "id": "SvnsXfjZLKSN"
      },
      "execution_count": null,
      "outputs": []
    },
    {
      "cell_type": "markdown",
      "source": [
        "Cargamos los datos en el dataframe"
      ],
      "metadata": {
        "id": "0GAgtRd4vKTm"
      }
    },
    {
      "cell_type": "code",
      "source": [
        "df = pd.read_csv(\"./dataset/bookings.csv\")"
      ],
      "metadata": {
        "id": "sPLbp0I_LP6n"
      },
      "execution_count": null,
      "outputs": []
    },
    {
      "cell_type": "markdown",
      "source": [
        "Hacemos un muestreo de los datos"
      ],
      "metadata": {
        "id": "F4Tj6k1uvNXM"
      }
    },
    {
      "cell_type": "code",
      "source": [
        "df.head()"
      ],
      "metadata": {
        "colab": {
          "base_uri": "https://localhost:8080/",
          "height": 386
        },
        "id": "wl2XzcHlLZTj",
        "outputId": "25e0cc9c-c35b-4b5e-bc25-8067ea4b3440"
      },
      "execution_count": null,
      "outputs": [
        {
          "output_type": "execute_result",
          "data": {
            "text/plain": [
              "          hotel  is_canceled  lead_time  arrival_date_year arrival_date_month  \\\n",
              "0  Resort Hotel            0        342               2015               July   \n",
              "1  Resort Hotel            0        737               2015               July   \n",
              "2  Resort Hotel            0          7               2015               July   \n",
              "3  Resort Hotel            0         13               2015               July   \n",
              "4  Resort Hotel            0         14               2015               July   \n",
              "\n",
              "   arrival_date_week_number  arrival_date_day_of_month  \\\n",
              "0                        27                          1   \n",
              "1                        27                          1   \n",
              "2                        27                          1   \n",
              "3                        27                          1   \n",
              "4                        27                          1   \n",
              "\n",
              "   stays_in_weekend_nights  stays_in_week_nights  adults  ...  deposit_type  \\\n",
              "0                        0                     0       2  ...    No Deposit   \n",
              "1                        0                     0       2  ...    No Deposit   \n",
              "2                        0                     1       1  ...    No Deposit   \n",
              "3                        0                     1       1  ...    No Deposit   \n",
              "4                        0                     2       2  ...    No Deposit   \n",
              "\n",
              "   agent company days_in_waiting_list customer_type   adr  \\\n",
              "0    NaN     NaN                    0     Transient   0.0   \n",
              "1    NaN     NaN                    0     Transient   0.0   \n",
              "2    NaN     NaN                    0     Transient  75.0   \n",
              "3  304.0     NaN                    0     Transient  75.0   \n",
              "4  240.0     NaN                    0     Transient  98.0   \n",
              "\n",
              "   required_car_parking_spaces  total_of_special_requests  reservation_status  \\\n",
              "0                            0                          0           Check-Out   \n",
              "1                            0                          0           Check-Out   \n",
              "2                            0                          0           Check-Out   \n",
              "3                            0                          0           Check-Out   \n",
              "4                            0                          1           Check-Out   \n",
              "\n",
              "  reservation_status_date  \n",
              "0              2015-07-01  \n",
              "1              2015-07-01  \n",
              "2              2015-07-02  \n",
              "3              2015-07-02  \n",
              "4              2015-07-03  \n",
              "\n",
              "[5 rows x 32 columns]"
            ],
            "text/html": [
              "\n",
              "  <div id=\"df-62c42f3f-5ed0-4c46-96be-926dee686836\">\n",
              "    <div class=\"colab-df-container\">\n",
              "      <div>\n",
              "<style scoped>\n",
              "    .dataframe tbody tr th:only-of-type {\n",
              "        vertical-align: middle;\n",
              "    }\n",
              "\n",
              "    .dataframe tbody tr th {\n",
              "        vertical-align: top;\n",
              "    }\n",
              "\n",
              "    .dataframe thead th {\n",
              "        text-align: right;\n",
              "    }\n",
              "</style>\n",
              "<table border=\"1\" class=\"dataframe\">\n",
              "  <thead>\n",
              "    <tr style=\"text-align: right;\">\n",
              "      <th></th>\n",
              "      <th>hotel</th>\n",
              "      <th>is_canceled</th>\n",
              "      <th>lead_time</th>\n",
              "      <th>arrival_date_year</th>\n",
              "      <th>arrival_date_month</th>\n",
              "      <th>arrival_date_week_number</th>\n",
              "      <th>arrival_date_day_of_month</th>\n",
              "      <th>stays_in_weekend_nights</th>\n",
              "      <th>stays_in_week_nights</th>\n",
              "      <th>adults</th>\n",
              "      <th>...</th>\n",
              "      <th>deposit_type</th>\n",
              "      <th>agent</th>\n",
              "      <th>company</th>\n",
              "      <th>days_in_waiting_list</th>\n",
              "      <th>customer_type</th>\n",
              "      <th>adr</th>\n",
              "      <th>required_car_parking_spaces</th>\n",
              "      <th>total_of_special_requests</th>\n",
              "      <th>reservation_status</th>\n",
              "      <th>reservation_status_date</th>\n",
              "    </tr>\n",
              "  </thead>\n",
              "  <tbody>\n",
              "    <tr>\n",
              "      <th>0</th>\n",
              "      <td>Resort Hotel</td>\n",
              "      <td>0</td>\n",
              "      <td>342</td>\n",
              "      <td>2015</td>\n",
              "      <td>July</td>\n",
              "      <td>27</td>\n",
              "      <td>1</td>\n",
              "      <td>0</td>\n",
              "      <td>0</td>\n",
              "      <td>2</td>\n",
              "      <td>...</td>\n",
              "      <td>No Deposit</td>\n",
              "      <td>NaN</td>\n",
              "      <td>NaN</td>\n",
              "      <td>0</td>\n",
              "      <td>Transient</td>\n",
              "      <td>0.0</td>\n",
              "      <td>0</td>\n",
              "      <td>0</td>\n",
              "      <td>Check-Out</td>\n",
              "      <td>2015-07-01</td>\n",
              "    </tr>\n",
              "    <tr>\n",
              "      <th>1</th>\n",
              "      <td>Resort Hotel</td>\n",
              "      <td>0</td>\n",
              "      <td>737</td>\n",
              "      <td>2015</td>\n",
              "      <td>July</td>\n",
              "      <td>27</td>\n",
              "      <td>1</td>\n",
              "      <td>0</td>\n",
              "      <td>0</td>\n",
              "      <td>2</td>\n",
              "      <td>...</td>\n",
              "      <td>No Deposit</td>\n",
              "      <td>NaN</td>\n",
              "      <td>NaN</td>\n",
              "      <td>0</td>\n",
              "      <td>Transient</td>\n",
              "      <td>0.0</td>\n",
              "      <td>0</td>\n",
              "      <td>0</td>\n",
              "      <td>Check-Out</td>\n",
              "      <td>2015-07-01</td>\n",
              "    </tr>\n",
              "    <tr>\n",
              "      <th>2</th>\n",
              "      <td>Resort Hotel</td>\n",
              "      <td>0</td>\n",
              "      <td>7</td>\n",
              "      <td>2015</td>\n",
              "      <td>July</td>\n",
              "      <td>27</td>\n",
              "      <td>1</td>\n",
              "      <td>0</td>\n",
              "      <td>1</td>\n",
              "      <td>1</td>\n",
              "      <td>...</td>\n",
              "      <td>No Deposit</td>\n",
              "      <td>NaN</td>\n",
              "      <td>NaN</td>\n",
              "      <td>0</td>\n",
              "      <td>Transient</td>\n",
              "      <td>75.0</td>\n",
              "      <td>0</td>\n",
              "      <td>0</td>\n",
              "      <td>Check-Out</td>\n",
              "      <td>2015-07-02</td>\n",
              "    </tr>\n",
              "    <tr>\n",
              "      <th>3</th>\n",
              "      <td>Resort Hotel</td>\n",
              "      <td>0</td>\n",
              "      <td>13</td>\n",
              "      <td>2015</td>\n",
              "      <td>July</td>\n",
              "      <td>27</td>\n",
              "      <td>1</td>\n",
              "      <td>0</td>\n",
              "      <td>1</td>\n",
              "      <td>1</td>\n",
              "      <td>...</td>\n",
              "      <td>No Deposit</td>\n",
              "      <td>304.0</td>\n",
              "      <td>NaN</td>\n",
              "      <td>0</td>\n",
              "      <td>Transient</td>\n",
              "      <td>75.0</td>\n",
              "      <td>0</td>\n",
              "      <td>0</td>\n",
              "      <td>Check-Out</td>\n",
              "      <td>2015-07-02</td>\n",
              "    </tr>\n",
              "    <tr>\n",
              "      <th>4</th>\n",
              "      <td>Resort Hotel</td>\n",
              "      <td>0</td>\n",
              "      <td>14</td>\n",
              "      <td>2015</td>\n",
              "      <td>July</td>\n",
              "      <td>27</td>\n",
              "      <td>1</td>\n",
              "      <td>0</td>\n",
              "      <td>2</td>\n",
              "      <td>2</td>\n",
              "      <td>...</td>\n",
              "      <td>No Deposit</td>\n",
              "      <td>240.0</td>\n",
              "      <td>NaN</td>\n",
              "      <td>0</td>\n",
              "      <td>Transient</td>\n",
              "      <td>98.0</td>\n",
              "      <td>0</td>\n",
              "      <td>1</td>\n",
              "      <td>Check-Out</td>\n",
              "      <td>2015-07-03</td>\n",
              "    </tr>\n",
              "  </tbody>\n",
              "</table>\n",
              "<p>5 rows × 32 columns</p>\n",
              "</div>\n",
              "      <button class=\"colab-df-convert\" onclick=\"convertToInteractive('df-62c42f3f-5ed0-4c46-96be-926dee686836')\"\n",
              "              title=\"Convert this dataframe to an interactive table.\"\n",
              "              style=\"display:none;\">\n",
              "        \n",
              "  <svg xmlns=\"http://www.w3.org/2000/svg\" height=\"24px\"viewBox=\"0 0 24 24\"\n",
              "       width=\"24px\">\n",
              "    <path d=\"M0 0h24v24H0V0z\" fill=\"none\"/>\n",
              "    <path d=\"M18.56 5.44l.94 2.06.94-2.06 2.06-.94-2.06-.94-.94-2.06-.94 2.06-2.06.94zm-11 1L8.5 8.5l.94-2.06 2.06-.94-2.06-.94L8.5 2.5l-.94 2.06-2.06.94zm10 10l.94 2.06.94-2.06 2.06-.94-2.06-.94-.94-2.06-.94 2.06-2.06.94z\"/><path d=\"M17.41 7.96l-1.37-1.37c-.4-.4-.92-.59-1.43-.59-.52 0-1.04.2-1.43.59L10.3 9.45l-7.72 7.72c-.78.78-.78 2.05 0 2.83L4 21.41c.39.39.9.59 1.41.59.51 0 1.02-.2 1.41-.59l7.78-7.78 2.81-2.81c.8-.78.8-2.07 0-2.86zM5.41 20L4 18.59l7.72-7.72 1.47 1.35L5.41 20z\"/>\n",
              "  </svg>\n",
              "      </button>\n",
              "      \n",
              "  <style>\n",
              "    .colab-df-container {\n",
              "      display:flex;\n",
              "      flex-wrap:wrap;\n",
              "      gap: 12px;\n",
              "    }\n",
              "\n",
              "    .colab-df-convert {\n",
              "      background-color: #E8F0FE;\n",
              "      border: none;\n",
              "      border-radius: 50%;\n",
              "      cursor: pointer;\n",
              "      display: none;\n",
              "      fill: #1967D2;\n",
              "      height: 32px;\n",
              "      padding: 0 0 0 0;\n",
              "      width: 32px;\n",
              "    }\n",
              "\n",
              "    .colab-df-convert:hover {\n",
              "      background-color: #E2EBFA;\n",
              "      box-shadow: 0px 1px 2px rgba(60, 64, 67, 0.3), 0px 1px 3px 1px rgba(60, 64, 67, 0.15);\n",
              "      fill: #174EA6;\n",
              "    }\n",
              "\n",
              "    [theme=dark] .colab-df-convert {\n",
              "      background-color: #3B4455;\n",
              "      fill: #D2E3FC;\n",
              "    }\n",
              "\n",
              "    [theme=dark] .colab-df-convert:hover {\n",
              "      background-color: #434B5C;\n",
              "      box-shadow: 0px 1px 3px 1px rgba(0, 0, 0, 0.15);\n",
              "      filter: drop-shadow(0px 1px 2px rgba(0, 0, 0, 0.3));\n",
              "      fill: #FFFFFF;\n",
              "    }\n",
              "  </style>\n",
              "\n",
              "      <script>\n",
              "        const buttonEl =\n",
              "          document.querySelector('#df-62c42f3f-5ed0-4c46-96be-926dee686836 button.colab-df-convert');\n",
              "        buttonEl.style.display =\n",
              "          google.colab.kernel.accessAllowed ? 'block' : 'none';\n",
              "\n",
              "        async function convertToInteractive(key) {\n",
              "          const element = document.querySelector('#df-62c42f3f-5ed0-4c46-96be-926dee686836');\n",
              "          const dataTable =\n",
              "            await google.colab.kernel.invokeFunction('convertToInteractive',\n",
              "                                                     [key], {});\n",
              "          if (!dataTable) return;\n",
              "\n",
              "          const docLinkHtml = 'Like what you see? Visit the ' +\n",
              "            '<a target=\"_blank\" href=https://colab.research.google.com/notebooks/data_table.ipynb>data table notebook</a>'\n",
              "            + ' to learn more about interactive tables.';\n",
              "          element.innerHTML = '';\n",
              "          dataTable['output_type'] = 'display_data';\n",
              "          await google.colab.output.renderOutput(dataTable, element);\n",
              "          const docLink = document.createElement('div');\n",
              "          docLink.innerHTML = docLinkHtml;\n",
              "          element.appendChild(docLink);\n",
              "        }\n",
              "      </script>\n",
              "    </div>\n",
              "  </div>\n",
              "  "
            ]
          },
          "metadata": {},
          "execution_count": 4
        }
      ]
    },
    {
      "cell_type": "markdown",
      "source": [
        "Mostramos las dimensiones del dataframe"
      ],
      "metadata": {
        "id": "5pjTddc5vT6w"
      }
    },
    {
      "cell_type": "code",
      "source": [
        "df.shape"
      ],
      "metadata": {
        "colab": {
          "base_uri": "https://localhost:8080/"
        },
        "id": "OVMvq10XLcTu",
        "outputId": "33d1e26d-48dc-4ee4-96e5-6fd6f3bb2db9"
      },
      "execution_count": null,
      "outputs": [
        {
          "output_type": "execute_result",
          "data": {
            "text/plain": [
              "(119390, 32)"
            ]
          },
          "metadata": {},
          "execution_count": 5
        }
      ]
    },
    {
      "cell_type": "markdown",
      "source": [
        "Mostramos la cantidad de datos vacíos en cada característica"
      ],
      "metadata": {
        "id": "W25FykOmvWd8"
      }
    },
    {
      "cell_type": "code",
      "source": [
        "print(\"# of NaN in each columns:\", df.isnull().sum(), sep='\\n')"
      ],
      "metadata": {
        "colab": {
          "base_uri": "https://localhost:8080/"
        },
        "id": "GUv_27b5LffC",
        "outputId": "270a882d-061f-4ebb-98ab-66929003494b"
      },
      "execution_count": null,
      "outputs": [
        {
          "output_type": "stream",
          "name": "stdout",
          "text": [
            "# of NaN in each columns:\n",
            "hotel                                  0\n",
            "is_canceled                            0\n",
            "lead_time                              0\n",
            "arrival_date_year                      0\n",
            "arrival_date_month                     0\n",
            "arrival_date_week_number               0\n",
            "arrival_date_day_of_month              0\n",
            "stays_in_weekend_nights                0\n",
            "stays_in_week_nights                   0\n",
            "adults                                 0\n",
            "children                               4\n",
            "babies                                 0\n",
            "meal                                   0\n",
            "country                              488\n",
            "market_segment                         0\n",
            "distribution_channel                   0\n",
            "is_repeated_guest                      0\n",
            "previous_cancellations                 0\n",
            "previous_bookings_not_canceled         0\n",
            "reserved_room_type                     0\n",
            "assigned_room_type                     0\n",
            "booking_changes                        0\n",
            "deposit_type                           0\n",
            "agent                              16340\n",
            "company                           112593\n",
            "days_in_waiting_list                   0\n",
            "customer_type                          0\n",
            "adr                                    0\n",
            "required_car_parking_spaces            0\n",
            "total_of_special_requests              0\n",
            "reservation_status                     0\n",
            "reservation_status_date                0\n",
            "dtype: int64\n"
          ]
        }
      ]
    },
    {
      "cell_type": "markdown",
      "source": [
        "Hacemos una copia del dataframe para realizar las modificaciones necesarias"
      ],
      "metadata": {
        "id": "KGm0A2PQvij5"
      }
    },
    {
      "cell_type": "code",
      "source": [
        "data = df.copy()"
      ],
      "metadata": {
        "id": "MD1Q3-CaLmqb"
      },
      "execution_count": null,
      "outputs": []
    },
    {
      "cell_type": "markdown",
      "source": [
        "Cancelaciones de clientes que repiten"
      ],
      "metadata": {
        "id": "H8s_5xpbLq3R"
      }
    },
    {
      "cell_type": "code",
      "source": [
        "sns.set(style = \"darkgrid\")\n",
        "plt.title(\"Canceled or not\", fontdict = {'fontsize': 20})\n",
        "ax = sns.countplot(x = \"is_canceled\", hue = 'is_repeated_guest', data = data)"
      ],
      "metadata": {
        "colab": {
          "base_uri": "https://localhost:8080/",
          "height": 306
        },
        "id": "D2EBS65PLs7w",
        "outputId": "70b85c01-700e-4247-a807-26032c7832fe"
      },
      "execution_count": null,
      "outputs": [
        {
          "output_type": "display_data",
          "data": {
            "text/plain": [
              "<Figure size 432x288 with 1 Axes>"
            ],
            "image/png": "[encoded data removed]"
          },
          "metadata": {}
        }
      ]
    },
    {
      "cell_type": "markdown",
      "source": [
        "Distribución boxplot de noches pasadas en los hoteles según segmento de mercado y tipo de hotel"
      ],
      "metadata": {
        "id": "0ieYAOILLy6B"
      }
    },
    {
      "cell_type": "code",
      "source": [
        "plt.figure(figsize = (15,10))\n",
        "sns.boxplot(x = \"market_segment\", y = \"stays_in_week_nights\", data = data, hue = \"hotel\", palette = 'Set1')"
      ],
      "metadata": {
        "colab": {
          "base_uri": "https://localhost:8080/",
          "height": 628
        },
        "id": "8zHhnRzYLzH1",
        "outputId": "9064e5f0-383f-4a8b-eca7-80a5a48774e1"
      },
      "execution_count": null,
      "outputs": [
        {
          "output_type": "execute_result",
          "data": {
            "text/plain": [
              "<AxesSubplot:xlabel='market_segment', ylabel='stays_in_week_nights'>"
            ]
          },
          "metadata": {},
          "execution_count": 9
        },
        {
          "output_type": "display_data",
          "data": {
            "text/plain": [
              "<Figure size 1080x720 with 1 Axes>"
            ],
            "image/png": "[encoded data removed]"
          },
          "metadata": {}
        }
      ]
    },
    {
      "cell_type": "code",
      "source": [
        "plt.figure(figsize=(15,10))\n",
        "sns.boxplot(x = \"market_segment\", y = \"stays_in_weekend_nights\", data = data, hue = \"hotel\", palette = 'Set1')"
      ],
      "metadata": {
        "colab": {
          "base_uri": "https://localhost:8080/",
          "height": 628
        },
        "id": "wa1s2mdpMsKN",
        "outputId": "fbcf9216-8626-4192-a497-99a2365190e4"
      },
      "execution_count": null,
      "outputs": [
        {
          "output_type": "execute_result",
          "data": {
            "text/plain": [
              "<AxesSubplot:xlabel='market_segment', ylabel='stays_in_weekend_nights'>"
            ]
          },
          "metadata": {},
          "execution_count": 10
        },
        {
          "output_type": "display_data",
          "data": {
            "text/plain": [
              "<Figure size 1080x720 with 1 Axes>"
            ],
            "image/png": "[encoded data removed]"
          },
          "metadata": {}
        }
      ]
    },
    {
      "cell_type": "markdown",
      "source": [
        "Distribución countplot de segmentos de mercado"
      ],
      "metadata": {
        "id": "cBeF9pveMzNB"
      }
    },
    {
      "cell_type": "code",
      "source": [
        "plt.figure(figsize = (13,10))\n",
        "sns.set(style = \"darkgrid\")\n",
        "plt.title(\"Countplot Distrubiton of Segment by Deposit Type\", fontdict = {'fontsize':20})\n",
        "ax = sns.countplot(x = \"market_segment\", hue = 'deposit_type', data = data)"
      ],
      "metadata": {
        "colab": {
          "base_uri": "https://localhost:8080/",
          "height": 632
        },
        "id": "NNasRh_tM3Aq",
        "outputId": "af6e8240-47ea-407d-d61f-0b9e28480853"
      },
      "execution_count": null,
      "outputs": [
        {
          "output_type": "display_data",
          "data": {
            "text/plain": [
              "<Figure size 936x720 with 1 Axes>"
            ],
            "image/png": "[encoded data removed]"
          },
          "metadata": {}
        }
      ]
    },
    {
      "cell_type": "code",
      "source": [
        "plt.figure(figsize = (13,10))\n",
        "sns.set(style = \"darkgrid\")\n",
        "plt.title(\"Countplot Distributon of Segments by Cancellation\", fontdict = {'fontsize':20})\n",
        "ax = sns.countplot(x = \"market_segment\", hue = 'is_canceled', data = data)"
      ],
      "metadata": {
        "colab": {
          "base_uri": "https://localhost:8080/",
          "height": 632
        },
        "id": "sbLZ5cTLM-m4",
        "outputId": "fd33ab23-a755-4d07-8952-a86e8daf4674"
      },
      "execution_count": null,
      "outputs": [
        {
          "output_type": "display_data",
          "data": {
            "text/plain": [
              "<Figure size 936x720 with 1 Axes>"
            ],
            "image/png": "[encoded data removed]"
          },
          "metadata": {}
        }
      ]
    },
    {
      "cell_type": "markdown",
      "source": [
        "Curva de densidad del tiempo según cancelación"
      ],
      "metadata": {
        "id": "BB23gt7LNCO1"
      }
    },
    {
      "cell_type": "code",
      "source": [
        "(sns.FacetGrid(data, hue = 'is_canceled',\n",
        "             height = 6,\n",
        "             xlim = (0,500))\n",
        "    .map(sns.kdeplot, 'lead_time', shade = True)\n",
        "    .add_legend())"
      ],
      "metadata": {
        "colab": {
          "base_uri": "https://localhost:8080/",
          "height": 454
        },
        "id": "FbGY7zTGNIUZ",
        "outputId": "c3b027d2-9dde-4b84-9f48-476c95c5128a"
      },
      "execution_count": null,
      "outputs": [
        {
          "output_type": "execute_result",
          "data": {
            "text/plain": [
              "<seaborn.axisgrid.FacetGrid at 0x7f6fc245b5e0>"
            ]
          },
          "metadata": {},
          "execution_count": 13
        },
        {
          "output_type": "display_data",
          "data": {
            "text/plain": [
              "<Figure size 510.425x432 with 1 Axes>"
            ],
            "image/png": "[encoded data removed]"
          },
          "metadata": {}
        }
      ]
    },
    {
      "cell_type": "markdown",
      "source": [
        "Cancelaciones mensuales y clientes según tipo de hotel"
      ],
      "metadata": {
        "id": "GF7y9zQrNQAK"
      }
    },
    {
      "cell_type": "code",
      "source": [
        "plt.figure(figsize =(13,10))\n",
        "sns.set(style=\"darkgrid\")\n",
        "plt.title(\"Total Customers - Monthly \", fontdict={'fontsize': 20})\n",
        "ax = sns.countplot(x = \"arrival_date_month\", hue = 'hotel', data = data)"
      ],
      "metadata": {
        "colab": {
          "base_uri": "https://localhost:8080/",
          "height": 632
        },
        "id": "x6oXSyL1Ngyx",
        "outputId": "37a4b799-b653-473d-b65b-e1c528d1d4c4"
      },
      "execution_count": null,
      "outputs": [
        {
          "output_type": "display_data",
          "data": {
            "text/plain": [
              "<Figure size 936x720 with 1 Axes>"
            ],
            "image/png": "[encoded data removed]"
          },
          "metadata": {}
        }
      ]
    },
    {
      "cell_type": "code",
      "source": [
        "plt.figure(figsize = (13,10))\n",
        "sns.barplot(x = 'arrival_date_month', y = 'is_canceled', data = data)"
      ],
      "metadata": {
        "colab": {
          "base_uri": "https://localhost:8080/",
          "height": 628
        },
        "id": "BeK3OKpUNmeu",
        "outputId": "6998b526-cc3d-4008-f901-e3cf10756c47"
      },
      "execution_count": null,
      "outputs": [
        {
          "output_type": "execute_result",
          "data": {
            "text/plain": [
              "<AxesSubplot:xlabel='arrival_date_month', ylabel='is_canceled'>"
            ]
          },
          "metadata": {},
          "execution_count": 15
        },
        {
          "output_type": "display_data",
          "data": {
            "text/plain": [
              "<Figure size 936x720 with 1 Axes>"
            ],
            "image/png": "[encoded data removed]"
          },
          "metadata": {}
        }
      ]
    },
    {
      "cell_type": "code",
      "source": [
        "plt.figure(figsize = (20,10))\n",
        "sns.barplot(x = 'arrival_date_month', y = 'is_canceled', hue = 'hotel', data = data)"
      ],
      "metadata": {
        "colab": {
          "base_uri": "https://localhost:8080/",
          "height": 628
        },
        "id": "7Cubru7zNqRQ",
        "outputId": "9a9b5472-d598-4d07-c56c-ac25a6a33985"
      },
      "execution_count": null,
      "outputs": [
        {
          "output_type": "execute_result",
          "data": {
            "text/plain": [
              "<AxesSubplot:xlabel='arrival_date_month', ylabel='is_canceled'>"
            ]
          },
          "metadata": {},
          "execution_count": 16
        },
        {
          "output_type": "display_data",
          "data": {
            "text/plain": [
              "<Figure size 1440x720 with 1 Axes>"
            ],
            "image/png": "[encoded data removed]"
          },
          "metadata": {}
        }
      ]
    },
    {
      "cell_type": "markdown",
      "source": [
        "# Preprocesamiento\n",
        "## Valores vacíos, feature engineering y estandarización"
      ],
      "metadata": {
        "id": "Dgm6W_KBNvCe"
      }
    },
    {
      "cell_type": "markdown",
      "source": [
        "Mostramos la cantidad de valores vacíos en cada característica"
      ],
      "metadata": {
        "id": "9ULyXsdqv6pE"
      }
    },
    {
      "cell_type": "code",
      "source": [
        "print(\"# of NaN in each columns:\", df.isnull().sum(), sep='\\n')"
      ],
      "metadata": {
        "colab": {
          "base_uri": "https://localhost:8080/"
        },
        "id": "YKit9O8RN3zd",
        "outputId": "400855dc-5cff-4444-9a49-5c90e4d20691"
      },
      "execution_count": null,
      "outputs": [
        {
          "output_type": "stream",
          "name": "stdout",
          "text": [
            "# of NaN in each columns:\n",
            "hotel                                  0\n",
            "is_canceled                            0\n",
            "lead_time                              0\n",
            "arrival_date_year                      0\n",
            "arrival_date_month                     0\n",
            "arrival_date_week_number               0\n",
            "arrival_date_day_of_month              0\n",
            "stays_in_weekend_nights                0\n",
            "stays_in_week_nights                   0\n",
            "adults                                 0\n",
            "children                               4\n",
            "babies                                 0\n",
            "meal                                   0\n",
            "country                              488\n",
            "market_segment                         0\n",
            "distribution_channel                   0\n",
            "is_repeated_guest                      0\n",
            "previous_cancellations                 0\n",
            "previous_bookings_not_canceled         0\n",
            "reserved_room_type                     0\n",
            "assigned_room_type                     0\n",
            "booking_changes                        0\n",
            "deposit_type                           0\n",
            "agent                              16340\n",
            "company                           112593\n",
            "days_in_waiting_list                   0\n",
            "customer_type                          0\n",
            "adr                                    0\n",
            "required_car_parking_spaces            0\n",
            "total_of_special_requests              0\n",
            "reservation_status                     0\n",
            "reservation_status_date                0\n",
            "dtype: int64\n"
          ]
        }
      ]
    },
    {
      "cell_type": "markdown",
      "source": [
        "Definimos una función para ver el porcentaje de valores perdidos en las características Company, Agent y Country"
      ],
      "metadata": {
        "id": "cm5rvulQv-in"
      }
    },
    {
      "cell_type": "code",
      "source": [
        "def perc_mv(x, y):\n",
        "    perc = y.isnull().sum() / len(x) * 100\n",
        "    return perc\n",
        "\n",
        "print('Missing value ratios:\\nCompany: {}\\nAgent: {}\\nCountry: {}'.format(perc_mv(df, df['company']),\n",
        "                                                                                   perc_mv(df, df['agent']),\n",
        "                                                                                   perc_mv(df, df['country'])))"
      ],
      "metadata": {
        "colab": {
          "base_uri": "https://localhost:8080/"
        },
        "id": "qUGk-gXtN8CM",
        "outputId": "ae06fa07-7f0d-4f0d-884b-7cb8cb56ae8e"
      },
      "execution_count": null,
      "outputs": [
        {
          "output_type": "stream",
          "name": "stdout",
          "text": [
            "Missing value ratios:\n",
            "Company: 94.30689337465449\n",
            "Agent: 13.686238378423655\n",
            "Country: 0.40874445095904177\n"
          ]
        }
      ]
    },
    {
      "cell_type": "markdown",
      "source": [
        "Realizamos un conteo de valores de la columna Agent (al tener pocos valores perdidos, no borramos esta columna)"
      ],
      "metadata": {
        "id": "1oeO9zJYwGWP"
      }
    },
    {
      "cell_type": "code",
      "source": [
        "data[\"agent\"].value_counts().count()"
      ],
      "metadata": {
        "colab": {
          "base_uri": "https://localhost:8080/"
        },
        "id": "cxKuHy7BN_7z",
        "outputId": "64552c56-078e-429f-bf47-5e3ce9fc3c9a"
      },
      "execution_count": null,
      "outputs": [
        {
          "output_type": "execute_result",
          "data": {
            "text/plain": [
              "333"
            ]
          },
          "metadata": {},
          "execution_count": 19
        }
      ]
    },
    {
      "cell_type": "markdown",
      "source": [
        "Debido al porcentaje de valores perdidos, eliminamos Company"
      ],
      "metadata": {
        "id": "GzyDNYhrwKyw"
      }
    },
    {
      "cell_type": "code",
      "source": [
        "data = data.drop(['company'], axis = 1)"
      ],
      "metadata": {
        "id": "J1kG3yb_ODYR"
      },
      "execution_count": null,
      "outputs": []
    },
    {
      "cell_type": "markdown",
      "source": [
        "# Comprobaciones de valores en características categóricas"
      ],
      "metadata": {
        "id": "GftL326qwWit"
      }
    },
    {
      "cell_type": "markdown",
      "source": [
        "A continuación realizo una serie de comprobaciones en cada columna categórica para conocer cual es el valor con mayor porcentaje de aparición.\n",
        "\n",
        "Esta información me será útil más adelante."
      ],
      "metadata": {
        "id": "XZ3TFsKRwzO6"
      }
    },
    {
      "cell_type": "code",
      "source": [
        "sns.countplot(data[\"meal\"], order=data[\"meal\"].value_counts(ascending=True).index)"
      ],
      "metadata": {
        "colab": {
          "base_uri": "https://localhost:8080/",
          "height": 302
        },
        "id": "3trQ0mjBSvqr",
        "outputId": "54ddb554-9097-43a7-a6b5-dff42cc7f45a"
      },
      "execution_count": null,
      "outputs": [
        {
          "output_type": "execute_result",
          "data": {
            "text/plain": [
              "<AxesSubplot:xlabel='meal', ylabel='count'>"
            ]
          },
          "metadata": {},
          "execution_count": 21
        },
        {
          "output_type": "display_data",
          "data": {
            "text/plain": [
              "<Figure size 432x288 with 1 Axes>"
            ],
            "image/png": "[encoded data removed]"
          },
          "metadata": {}
        }
      ]
    },
    {
      "cell_type": "code",
      "source": [
        "sns.countplot(data[\"market_segment\"], order=data[\"market_segment\"].value_counts(ascending=True).index)"
      ],
      "metadata": {
        "colab": {
          "base_uri": "https://localhost:8080/",
          "height": 302
        },
        "id": "WdeZSsjTTEZN",
        "outputId": "bab5a50b-a343-4ac9-9416-17aa20b9e737"
      },
      "execution_count": null,
      "outputs": [
        {
          "output_type": "execute_result",
          "data": {
            "text/plain": [
              "<AxesSubplot:xlabel='market_segment', ylabel='count'>"
            ]
          },
          "metadata": {},
          "execution_count": 22
        },
        {
          "output_type": "display_data",
          "data": {
            "text/plain": [
              "<Figure size 432x288 with 1 Axes>"
            ],
            "image/png": "[encoded data removed]"
          },
          "metadata": {}
        }
      ]
    },
    {
      "cell_type": "code",
      "source": [
        "sns.countplot(data[\"distribution_channel\"], order=data[\"distribution_channel\"].value_counts(ascending=True).index)"
      ],
      "metadata": {
        "colab": {
          "base_uri": "https://localhost:8080/",
          "height": 302
        },
        "id": "if9W8fmDTORQ",
        "outputId": "21728eec-14c1-4d1a-8a96-2de16fd5ab8f"
      },
      "execution_count": null,
      "outputs": [
        {
          "output_type": "execute_result",
          "data": {
            "text/plain": [
              "<AxesSubplot:xlabel='distribution_channel', ylabel='count'>"
            ]
          },
          "metadata": {},
          "execution_count": 23
        },
        {
          "output_type": "display_data",
          "data": {
            "text/plain": [
              "<Figure size 432x288 with 1 Axes>"
            ],
            "image/png": "[encoded data removed]"
          },
          "metadata": {}
        }
      ]
    },
    {
      "cell_type": "code",
      "source": [
        "sns.countplot(data[\"reserved_room_type\"], order=data[\"reserved_room_type\"].value_counts(ascending=True).index)"
      ],
      "metadata": {
        "colab": {
          "base_uri": "https://localhost:8080/",
          "height": 302
        },
        "id": "huPhweI2TZDh",
        "outputId": "277ec390-dba0-4484-dd27-09a4e0af1e3f"
      },
      "execution_count": null,
      "outputs": [
        {
          "output_type": "execute_result",
          "data": {
            "text/plain": [
              "<AxesSubplot:xlabel='reserved_room_type', ylabel='count'>"
            ]
          },
          "metadata": {},
          "execution_count": 24
        },
        {
          "output_type": "display_data",
          "data": {
            "text/plain": [
              "<Figure size 432x288 with 1 Axes>"
            ],
            "image/png": "[encoded data removed]"
          },
          "metadata": {}
        }
      ]
    },
    {
      "cell_type": "code",
      "source": [
        "sns.countplot(data[\"assigned_room_type\"], order=data[\"assigned_room_type\"].value_counts(ascending=True).index)"
      ],
      "metadata": {
        "colab": {
          "base_uri": "https://localhost:8080/",
          "height": 302
        },
        "id": "VW9ODVljTcxW",
        "outputId": "d0fb13fe-01a4-4bef-85f5-853fd3fb8b63"
      },
      "execution_count": null,
      "outputs": [
        {
          "output_type": "execute_result",
          "data": {
            "text/plain": [
              "<AxesSubplot:xlabel='assigned_room_type', ylabel='count'>"
            ]
          },
          "metadata": {},
          "execution_count": 25
        },
        {
          "output_type": "display_data",
          "data": {
            "text/plain": [
              "<Figure size 432x288 with 1 Axes>"
            ],
            "image/png": "[encoded data removed]"
          },
          "metadata": {}
        }
      ]
    },
    {
      "cell_type": "code",
      "source": [
        "sns.countplot(data[\"deposit_type\"], order=data[\"deposit_type\"].value_counts(ascending=True).index)"
      ],
      "metadata": {
        "colab": {
          "base_uri": "https://localhost:8080/",
          "height": 302
        },
        "id": "8zDu1VFRTjcT",
        "outputId": "bbfbb620-b4a3-488d-b1e0-c88610233d29"
      },
      "execution_count": null,
      "outputs": [
        {
          "output_type": "execute_result",
          "data": {
            "text/plain": [
              "<AxesSubplot:xlabel='deposit_type', ylabel='count'>"
            ]
          },
          "metadata": {},
          "execution_count": 26
        },
        {
          "output_type": "display_data",
          "data": {
            "text/plain": [
              "<Figure size 432x288 with 1 Axes>"
            ],
            "image/png": "[encoded data removed]"
          },
          "metadata": {}
        }
      ]
    },
    {
      "cell_type": "code",
      "source": [
        "sns.countplot(data[\"customer_type\"], order=data[\"customer_type\"].value_counts(ascending=True).index)"
      ],
      "metadata": {
        "colab": {
          "base_uri": "https://localhost:8080/",
          "height": 302
        },
        "id": "bEBClSpQTms5",
        "outputId": "963d0c06-1976-4d4b-853d-f7ec3496f40d"
      },
      "execution_count": null,
      "outputs": [
        {
          "output_type": "execute_result",
          "data": {
            "text/plain": [
              "<AxesSubplot:xlabel='customer_type', ylabel='count'>"
            ]
          },
          "metadata": {},
          "execution_count": 27
        },
        {
          "output_type": "display_data",
          "data": {
            "text/plain": [
              "<Figure size 432x288 with 1 Axes>"
            ],
            "image/png": "[encoded data removed]"
          },
          "metadata": {}
        }
      ]
    },
    {
      "cell_type": "code",
      "source": [
        "sns.countplot(data[\"reservation_status\"], order=data[\"reservation_status\"].value_counts(ascending=True).index)"
      ],
      "metadata": {
        "colab": {
          "base_uri": "https://localhost:8080/",
          "height": 302
        },
        "id": "D5qtpA9nTqpO",
        "outputId": "149fb75c-c847-4b05-daea-7f7d7c9bc41d"
      },
      "execution_count": null,
      "outputs": [
        {
          "output_type": "execute_result",
          "data": {
            "text/plain": [
              "<AxesSubplot:xlabel='reservation_status', ylabel='count'>"
            ]
          },
          "metadata": {},
          "execution_count": 28
        },
        {
          "output_type": "display_data",
          "data": {
            "text/plain": [
              "<Figure size 432x288 with 1 Axes>"
            ],
            "image/png": "[encoded data removed]"
          },
          "metadata": {}
        }
      ]
    },
    {
      "cell_type": "code",
      "source": [
        "sns.countplot(data[\"reservation_status_date\"], order=data[\"reservation_status_date\"].value_counts(ascending=True).index)"
      ],
      "metadata": {
        "colab": {
          "base_uri": "https://localhost:8080/",
          "height": 302
        },
        "id": "n3XG7nShTtgJ",
        "outputId": "f589bc46-ca8a-4e83-aa1e-6173e153c13c"
      },
      "execution_count": null,
      "outputs": [
        {
          "output_type": "execute_result",
          "data": {
            "text/plain": [
              "<AxesSubplot:xlabel='reservation_status_date', ylabel='count'>"
            ]
          },
          "metadata": {},
          "execution_count": 29
        },
        {
          "output_type": "display_data",
          "data": {
            "text/plain": [
              "<Figure size 432x288 with 1 Axes>"
            ],
            "image/png": "[encoded data removed]"
          },
          "metadata": {}
        }
      ]
    },
    {
      "cell_type": "markdown",
      "source": [
        "Debido a la cantidad de valores en reservation_status_date, voy a comprobar los últimos 5 valores para ver cual fue el año de las últimas fechas regristradas."
      ],
      "metadata": {
        "id": "7KBtwkE-xBEe"
      }
    },
    {
      "cell_type": "code",
      "source": [
        "data[\"reservation_status_date\"].tail()"
      ],
      "metadata": {
        "colab": {
          "base_uri": "https://localhost:8080/"
        },
        "id": "oKCJMfTsV_lO",
        "outputId": "ef026148-da35-4b1b-a909-9974b8ff82c1"
      },
      "execution_count": null,
      "outputs": [
        {
          "output_type": "execute_result",
          "data": {
            "text/plain": [
              "119385    2017-09-06\n",
              "119386    2017-09-07\n",
              "119387    2017-09-07\n",
              "119388    2017-09-07\n",
              "119389    2017-09-07\n",
              "Name: reservation_status_date, dtype: object"
            ]
          },
          "metadata": {},
          "execution_count": 30
        }
      ]
    },
    {
      "cell_type": "markdown",
      "source": [
        "Una vez realizadas las comprobaciones anteriores, voy a usar fillna para rellenar los valores vacíos.\n",
        "\n",
        "* Para datos numéricos, rellenaré los valores perdidos con un 0.\n",
        "* Para datos categóricos, rellenaré los valores perdidos con el dato más repetido."
      ],
      "metadata": {
        "id": "S9n7YdqHxI0D"
      }
    },
    {
      "cell_type": "code",
      "source": [
        "data['adults'] = data['adults'].fillna(0)\n",
        "data['children'] = data['children'].fillna(0)\n",
        "data['babies'] = data['babies'].fillna(0)\n",
        "data['meal'] = data['meal'].fillna(\"BB\")\n",
        "data['market_segment'] = data['market_segment'].fillna(\"Online TA\")\n",
        "data['distribution_channel'] = data['distribution_channel'].fillna(\"TA/TO\")\n",
        "data['is_repeated_guest'] = data['is_repeated_guest'].fillna(0)\n",
        "data['previous_cancellations'] = data['previous_cancellations'].fillna(0)\n",
        "data['previous_bookings_not_canceled'] = data['previous_bookings_not_canceled'].fillna(0)\n",
        "data['reserved_room_type'] = data['reserved_room_type'].fillna(\"A\")\n",
        "data['assigned_room_type'] = data['assigned_room_type'].fillna(\"A\")\n",
        "data['booking_changes'] = data['booking_changes'].fillna(0)\n",
        "data['deposit_type'] = data['deposit_type'].fillna(\"No Deposit\")\n",
        "data['days_in_waiting_list'] = data['days_in_waiting_list'].fillna(0)\n",
        "data['customer_type'] = data['customer_type'].fillna(\"Transient\")\n",
        "data['adr'] = data['adr'].fillna(0)\n",
        "data['required_car_parking_spaces'] = data['required_car_parking_spaces'].fillna(0)\n",
        "data['total_of_special_requests'] = data['total_of_special_requests'].fillna(0)\n",
        "data['reservation_status'] = data['reservation_status'].fillna(\"Check-Out\")\n",
        "data['reservation_status_date'] = data['reservation_status_date'].fillna(\"2017-09-07\")"
      ],
      "metadata": {
        "id": "P7-JN0_jOG9L"
      },
      "execution_count": null,
      "outputs": []
    },
    {
      "cell_type": "markdown",
      "source": [
        "# Manipulación de características"
      ],
      "metadata": {
        "id": "OPA2y_uYPc6y"
      }
    },
    {
      "cell_type": "markdown",
      "source": [
        "Mostramos los tipos de cada característica"
      ],
      "metadata": {
        "id": "jdQRyFFXxjCo"
      }
    },
    {
      "cell_type": "code",
      "source": [
        "data.dtypes"
      ],
      "metadata": {
        "colab": {
          "base_uri": "https://localhost:8080/"
        },
        "id": "amqPQ81mPfgs",
        "outputId": "f6df3974-20f1-41a9-ea14-8a6fc6726f27"
      },
      "execution_count": null,
      "outputs": [
        {
          "output_type": "execute_result",
          "data": {
            "text/plain": [
              "hotel                              object\n",
              "is_canceled                         int64\n",
              "lead_time                           int64\n",
              "arrival_date_year                   int64\n",
              "arrival_date_month                 object\n",
              "arrival_date_week_number            int64\n",
              "arrival_date_day_of_month           int64\n",
              "stays_in_weekend_nights             int64\n",
              "stays_in_week_nights                int64\n",
              "adults                              int64\n",
              "children                          float64\n",
              "babies                              int64\n",
              "meal                               object\n",
              "country                            object\n",
              "market_segment                     object\n",
              "distribution_channel               object\n",
              "is_repeated_guest                   int64\n",
              "previous_cancellations              int64\n",
              "previous_bookings_not_canceled      int64\n",
              "reserved_room_type                 object\n",
              "assigned_room_type                 object\n",
              "booking_changes                     int64\n",
              "deposit_type                       object\n",
              "agent                             float64\n",
              "days_in_waiting_list                int64\n",
              "customer_type                      object\n",
              "adr                               float64\n",
              "required_car_parking_spaces         int64\n",
              "total_of_special_requests           int64\n",
              "reservation_status                 object\n",
              "reservation_status_date            object\n",
              "dtype: object"
            ]
          },
          "metadata": {},
          "execution_count": 32
        }
      ]
    },
    {
      "cell_type": "markdown",
      "source": [
        "Añadimos las etiquetas de cada dato en hotel y arrival_date_month"
      ],
      "metadata": {
        "id": "FDEpAs8Qxo6N"
      }
    },
    {
      "cell_type": "code",
      "source": [
        "data['hotel'] = data['hotel'].map({'Resort Hotel':0, 'City Hotel':1})\n",
        "\n",
        "data['arrival_date_month'] = data['arrival_date_month'].map({'January':1, 'February': 2, 'March':3, 'April':4, 'May':5, 'June':6, 'July':7,\n",
        "                                                            'August':8, 'September':9, 'October':10, 'November':11, 'December':12})"
      ],
      "metadata": {
        "id": "l3VmTST7Ph25"
      },
      "execution_count": null,
      "outputs": []
    },
    {
      "cell_type": "markdown",
      "source": [
        "Para el resto de características, lo haré mediante una función para cada una"
      ],
      "metadata": {
        "id": "QRfsVfraxxTc"
      }
    },
    {
      "cell_type": "code",
      "source": [
        "def family(data):\n",
        "    if ((data['adults'] > 0) & (data['children'] > 0)):\n",
        "        val = 1\n",
        "    elif ((data['adults'] > 0) & (data['babies'] > 0)):\n",
        "        val = 1\n",
        "    else:\n",
        "        val = 0\n",
        "    return val\n",
        "\n",
        "def deposit(data):\n",
        "    if ((data['deposit_type'] == 'No Deposit') | (data['deposit_type'] == 'Refundable')):\n",
        "        return 0\n",
        "    else:\n",
        "        return 1"
      ],
      "metadata": {
        "id": "pThmNzt3PlYZ"
      },
      "execution_count": null,
      "outputs": []
    },
    {
      "cell_type": "code",
      "source": [
        "def feature(data):\n",
        "    data[\"is_family\"] = data.apply(family, axis = 1)\n",
        "    data[\"total_customer\"] = data[\"adults\"] + data[\"children\"] + data[\"babies\"]\n",
        "    data[\"deposit_given\"] = data.apply(deposit, axis=1)\n",
        "    data[\"total_nights\"] = data[\"stays_in_weekend_nights\"]+ data[\"stays_in_week_nights\"]\n",
        "    return data\n",
        "\n",
        "data = feature(data)"
      ],
      "metadata": {
        "id": "tWwFbHJXPoAt"
      },
      "execution_count": null,
      "outputs": []
    },
    {
      "cell_type": "markdown",
      "source": [
        "Para finalizar, eliminamos las columnas adults, babies, children, deposit_type y reservation_status_date debido a que sus datos ya se encuentran dentro de las nuevas características"
      ],
      "metadata": {
        "id": "GYpcqWf2x4wM"
      }
    },
    {
      "cell_type": "code",
      "source": [
        "data = data.drop(columns = ['adults', 'babies', 'children', 'deposit_type', 'reservation_status_date'])"
      ],
      "metadata": {
        "id": "_WwGLu8BPqx0"
      },
      "execution_count": null,
      "outputs": []
    },
    {
      "cell_type": "markdown",
      "source": [
        "# Correlación"
      ],
      "metadata": {
        "id": "MZnoQSSQPw77"
      }
    },
    {
      "cell_type": "markdown",
      "source": [
        "Muestreo de las columnas del dataframe"
      ],
      "metadata": {
        "id": "yca-NdpByI-5"
      }
    },
    {
      "cell_type": "code",
      "source": [
        "data.columns"
      ],
      "metadata": {
        "colab": {
          "base_uri": "https://localhost:8080/"
        },
        "id": "oAkff8oxPx5g",
        "outputId": "d1100837-f6fa-49dd-ae9e-e4c246fae7b9"
      },
      "execution_count": null,
      "outputs": [
        {
          "output_type": "execute_result",
          "data": {
            "text/plain": [
              "Index(['hotel', 'is_canceled', 'lead_time', 'arrival_date_year',\n",
              "       'arrival_date_month', 'arrival_date_week_number',\n",
              "       'arrival_date_day_of_month', 'stays_in_weekend_nights',\n",
              "       'stays_in_week_nights', 'meal', 'country', 'market_segment',\n",
              "       'distribution_channel', 'is_repeated_guest', 'previous_cancellations',\n",
              "       'previous_bookings_not_canceled', 'reserved_room_type',\n",
              "       'assigned_room_type', 'booking_changes', 'agent',\n",
              "       'days_in_waiting_list', 'customer_type', 'adr',\n",
              "       'required_car_parking_spaces', 'total_of_special_requests',\n",
              "       'reservation_status', 'is_family', 'total_customer', 'deposit_given',\n",
              "       'total_nights'],\n",
              "      dtype='object')"
            ]
          },
          "metadata": {},
          "execution_count": 37
        }
      ]
    },
    {
      "cell_type": "markdown",
      "source": [
        "Realizamos otra copia del dataframe para seguir trabajando con este"
      ],
      "metadata": {
        "id": "Kl4hfvWXyMSX"
      }
    },
    {
      "cell_type": "code",
      "source": [
        "cor_data = data.copy()"
      ],
      "metadata": {
        "id": "QycniwFdP0X9"
      },
      "execution_count": null,
      "outputs": []
    },
    {
      "cell_type": "markdown",
      "source": [
        "Inicializamos el objeto LabelEncoder"
      ],
      "metadata": {
        "id": "6G2jCTLhyRtu"
      }
    },
    {
      "cell_type": "code",
      "source": [
        "le = LabelEncoder()"
      ],
      "metadata": {
        "id": "JfS0_08TP2Wv"
      },
      "execution_count": null,
      "outputs": []
    },
    {
      "cell_type": "markdown",
      "source": [
        "Utilizamos el le para transformar los siguientes datos:"
      ],
      "metadata": {
        "id": "S3_JvcQJyUjD"
      }
    },
    {
      "cell_type": "code",
      "source": [
        "cor_data['meal'] = le.fit_transform(cor_data['meal'])\n",
        "cor_data['distribution_channel'] = le.fit_transform(cor_data['distribution_channel'])\n",
        "cor_data['reserved_room_type'] = le.fit_transform(cor_data['reserved_room_type'])\n",
        "cor_data['assigned_room_type'] = le.fit_transform(cor_data['assigned_room_type'])\n",
        "cor_data['agent'] = le.fit_transform(cor_data['agent'])\n",
        "cor_data['customer_type'] = le.fit_transform(cor_data['customer_type'])\n",
        "cor_data['reservation_status'] = le.fit_transform(cor_data['reservation_status'])\n",
        "cor_data['market_segment'] = le.fit_transform(cor_data['market_segment'])"
      ],
      "metadata": {
        "id": "sSiy43HxP4uL"
      },
      "execution_count": null,
      "outputs": []
    },
    {
      "cell_type": "markdown",
      "source": [
        "Comprobamos la correlación de datos"
      ],
      "metadata": {
        "id": "TsHupyFSycUb"
      }
    },
    {
      "cell_type": "code",
      "source": [
        "cor_data.corr()"
      ],
      "metadata": {
        "colab": {
          "base_uri": "https://localhost:8080/",
          "height": 1000
        },
        "id": "z50fHvDPWVwj",
        "outputId": "8c2184b2-abc3-4acf-81fe-7b0858f47e1c"
      },
      "execution_count": null,
      "outputs": [
        {
          "output_type": "execute_result",
          "data": {
            "text/plain": [
              "                                   hotel  is_canceled  lead_time  \\\n",
              "hotel                           1.000000     0.136531   0.075381   \n",
              "is_canceled                     0.136531     1.000000   0.293123   \n",
              "lead_time                       0.075381     0.293123   1.000000   \n",
              "arrival_date_year               0.035267     0.016660   0.040142   \n",
              "arrival_date_month              0.001817     0.011022   0.131424   \n",
              "arrival_date_week_number        0.001270     0.008148   0.126871   \n",
              "arrival_date_day_of_month      -0.001862    -0.006130   0.002268   \n",
              "stays_in_weekend_nights        -0.186596    -0.001791   0.085671   \n",
              "stays_in_week_nights           -0.234020     0.024765   0.165799   \n",
              "meal                            0.008018    -0.017678   0.000349   \n",
              "market_segment                  0.083795     0.059338   0.013797   \n",
              "distribution_channel            0.174419     0.167600   0.220414   \n",
              "is_repeated_guest              -0.050421    -0.084793  -0.124410   \n",
              "previous_cancellations         -0.012292     0.110133   0.086042   \n",
              "previous_bookings_not_canceled -0.004441    -0.057358  -0.073548   \n",
              "reserved_room_type             -0.249677    -0.061282  -0.106089   \n",
              "assigned_room_type             -0.307834    -0.176028  -0.172219   \n",
              "booking_changes                -0.072820    -0.144381   0.000149   \n",
              "agent                          -0.559692    -0.130010  -0.183373   \n",
              "days_in_waiting_list            0.072432     0.054186   0.170084   \n",
              "customer_type                   0.047531    -0.068140   0.073403   \n",
              "adr                             0.096719     0.047557  -0.063077   \n",
              "required_car_parking_spaces    -0.218873    -0.195498  -0.116451   \n",
              "total_of_special_requests      -0.043390    -0.234658  -0.095712   \n",
              "reservation_status             -0.124331    -0.917196  -0.302175   \n",
              "is_family                      -0.058306    -0.013010  -0.043972   \n",
              "total_customer                 -0.040821     0.046522   0.072265   \n",
              "deposit_given                   0.172003     0.481457   0.380179   \n",
              "total_nights                   -0.247479     0.017779   0.157167   \n",
              "\n",
              "                                arrival_date_year  arrival_date_month  \\\n",
              "hotel                                    0.035267            0.001817   \n",
              "is_canceled                              0.016660            0.011022   \n",
              "lead_time                                0.040142            0.131424   \n",
              "arrival_date_year                        1.000000           -0.527739   \n",
              "arrival_date_month                      -0.527739            1.000000   \n",
              "arrival_date_week_number                -0.540561            0.995105   \n",
              "arrival_date_day_of_month               -0.000221           -0.026063   \n",
              "stays_in_weekend_nights                  0.021497            0.018440   \n",
              "stays_in_week_nights                     0.030883            0.019212   \n",
              "meal                                     0.065840           -0.015205   \n",
              "market_segment                           0.107697            0.001293   \n",
              "distribution_channel                     0.022644            0.007381   \n",
              "is_repeated_guest                        0.010341           -0.030729   \n",
              "previous_cancellations                  -0.119822            0.037479   \n",
              "previous_bookings_not_canceled           0.029218           -0.021640   \n",
              "reserved_room_type                       0.092809           -0.007923   \n",
              "assigned_room_type                       0.036141           -0.006378   \n",
              "booking_changes                          0.030872            0.004809   \n",
              "agent                                    0.035281           -0.043978   \n",
              "days_in_waiting_list                    -0.056497            0.019045   \n",
              "customer_type                           -0.006149           -0.029753   \n",
              "adr                                      0.197580            0.079315   \n",
              "required_car_parking_spaces             -0.013684            0.000257   \n",
              "total_of_special_requests                0.108531            0.028026   \n",
              "reservation_status                      -0.017683           -0.021090   \n",
              "is_family                                0.052711            0.010427   \n",
              "total_customer                           0.052127            0.027252   \n",
              "deposit_given                           -0.065963            0.008746   \n",
              "total_nights                             0.031438            0.021536   \n",
              "\n",
              "                                arrival_date_week_number  \\\n",
              "hotel                                           0.001270   \n",
              "is_canceled                                     0.008148   \n",
              "lead_time                                       0.126871   \n",
              "arrival_date_year                              -0.540561   \n",
              "arrival_date_month                              0.995105   \n",
              "arrival_date_week_number                        1.000000   \n",
              "arrival_date_day_of_month                       0.066809   \n",
              "stays_in_weekend_nights                         0.018208   \n",
              "stays_in_week_nights                            0.015558   \n",
              "meal                                           -0.017381   \n",
              "market_segment                                 -0.000510   \n",
              "distribution_channel                            0.005699   \n",
              "is_repeated_guest                              -0.030131   \n",
              "previous_cancellations                          0.035501   \n",
              "previous_bookings_not_canceled                 -0.020904   \n",
              "reserved_room_type                             -0.007997   \n",
              "assigned_room_type                             -0.005684   \n",
              "booking_changes                                 0.005508   \n",
              "agent                                          -0.042837   \n",
              "days_in_waiting_list                            0.022933   \n",
              "customer_type                                  -0.028432   \n",
              "adr                                             0.075791   \n",
              "required_car_parking_spaces                     0.001920   \n",
              "total_of_special_requests                       0.026149   \n",
              "reservation_status                             -0.017387   \n",
              "is_family                                       0.010611   \n",
              "total_customer                                  0.025220   \n",
              "deposit_given                                   0.007773   \n",
              "total_nights                                    0.018719   \n",
              "\n",
              "                                arrival_date_day_of_month  \\\n",
              "hotel                                           -0.001862   \n",
              "is_canceled                                     -0.006130   \n",
              "lead_time                                        0.002268   \n",
              "arrival_date_year                               -0.000221   \n",
              "arrival_date_month                              -0.026063   \n",
              "arrival_date_week_number                         0.066809   \n",
              "arrival_date_day_of_month                        1.000000   \n",
              "stays_in_weekend_nights                         -0.016354   \n",
              "stays_in_week_nights                            -0.028174   \n",
              "meal                                            -0.007086   \n",
              "market_segment                                  -0.004088   \n",
              "distribution_channel                             0.001578   \n",
              "is_repeated_guest                               -0.006145   \n",
              "previous_cancellations                          -0.027011   \n",
              "previous_bookings_not_canceled                  -0.000300   \n",
              "reserved_room_type                               0.016929   \n",
              "assigned_room_type                               0.011646   \n",
              "booking_changes                                  0.010613   \n",
              "agent                                            0.003976   \n",
              "days_in_waiting_list                             0.022728   \n",
              "customer_type                                    0.012188   \n",
              "adr                                              0.030245   \n",
              "required_car_parking_spaces                      0.008683   \n",
              "total_of_special_requests                        0.003062   \n",
              "reservation_status                               0.011460   \n",
              "is_family                                        0.014710   \n",
              "total_customer                                   0.006742   \n",
              "deposit_given                                   -0.008616   \n",
              "total_nights                                    -0.027408   \n",
              "\n",
              "                                stays_in_weekend_nights  stays_in_week_nights  \\\n",
              "hotel                                         -0.186596             -0.234020   \n",
              "is_canceled                                   -0.001791              0.024765   \n",
              "lead_time                                      0.085671              0.165799   \n",
              "arrival_date_year                              0.021497              0.030883   \n",
              "arrival_date_month                             0.018440              0.019212   \n",
              "arrival_date_week_number                       0.018208              0.015558   \n",
              "arrival_date_day_of_month                     -0.016354             -0.028174   \n",
              "stays_in_weekend_nights                        1.000000              0.498969   \n",
              "stays_in_week_nights                           0.498969              1.000000   \n",
              "meal                                           0.045744              0.036742   \n",
              "market_segment                                 0.115350              0.108569   \n",
              "distribution_channel                           0.093097              0.087185   \n",
              "is_repeated_guest                             -0.087239             -0.097245   \n",
              "previous_cancellations                        -0.012775             -0.013992   \n",
              "previous_bookings_not_canceled                -0.042715             -0.048743   \n",
              "reserved_room_type                             0.142083              0.168616   \n",
              "assigned_room_type                             0.086643              0.100795   \n",
              "booking_changes                                0.063281              0.096209   \n",
              "agent                                         -0.016722              0.014903   \n",
              "days_in_waiting_list                          -0.054151             -0.002020   \n",
              "customer_type                                 -0.109220             -0.127223   \n",
              "adr                                            0.049342              0.065237   \n",
              "required_car_parking_spaces                   -0.018554             -0.024859   \n",
              "total_of_special_requests                      0.072671              0.068192   \n",
              "reservation_status                             0.008558             -0.021607   \n",
              "is_family                                      0.052306              0.050424   \n",
              "total_customer                                 0.101426              0.101665   \n",
              "deposit_given                                 -0.114275             -0.079999   \n",
              "total_nights                                   0.762790              0.941005   \n",
              "\n",
              "                                    meal  ...  days_in_waiting_list  \\\n",
              "hotel                           0.008018  ...              0.072432   \n",
              "is_canceled                    -0.017678  ...              0.054186   \n",
              "lead_time                       0.000349  ...              0.170084   \n",
              "arrival_date_year               0.065840  ...             -0.056497   \n",
              "arrival_date_month             -0.015205  ...              0.019045   \n",
              "arrival_date_week_number       -0.017381  ...              0.022933   \n",
              "arrival_date_day_of_month      -0.007086  ...              0.022728   \n",
              "stays_in_weekend_nights         0.045744  ...             -0.054151   \n",
              "stays_in_week_nights            0.036742  ...             -0.002020   \n",
              "meal                            1.000000  ...             -0.007132   \n",
              "market_segment                  0.145132  ...             -0.041503   \n",
              "distribution_channel            0.116957  ...              0.048642   \n",
              "is_repeated_guest              -0.057009  ...             -0.022235   \n",
              "previous_cancellations         -0.003772  ...              0.005929   \n",
              "previous_bookings_not_canceled -0.040417  ...             -0.009397   \n",
              "reserved_room_type             -0.120749  ...             -0.068821   \n",
              "assigned_room_type             -0.120792  ...             -0.068676   \n",
              "booking_changes                 0.024650  ...             -0.011634   \n",
              "agent                          -0.113765  ...             -0.066239   \n",
              "days_in_waiting_list           -0.007132  ...              1.000000   \n",
              "customer_type                   0.044658  ...              0.099121   \n",
              "adr                             0.059098  ...             -0.040756   \n",
              "required_car_parking_spaces    -0.038923  ...             -0.030600   \n",
              "total_of_special_requests       0.023136  ...             -0.082730   \n",
              "reservation_status              0.015393  ...             -0.057927   \n",
              "is_family                      -0.041727  ...             -0.036312   \n",
              "total_customer                 -0.005975  ...             -0.026431   \n",
              "deposit_given                  -0.090725  ...              0.120249   \n",
              "total_nights                    0.045277  ...             -0.022652   \n",
              "\n",
              "                                customer_type       adr  \\\n",
              "hotel                                0.047531  0.096719   \n",
              "is_canceled                         -0.068140  0.047557   \n",
              "lead_time                            0.073403 -0.063077   \n",
              "arrival_date_year                   -0.006149  0.197580   \n",
              "arrival_date_month                  -0.029753  0.079315   \n",
              "arrival_date_week_number            -0.028432  0.075791   \n",
              "arrival_date_day_of_month            0.012188  0.030245   \n",
              "stays_in_weekend_nights             -0.109220  0.049342   \n",
              "stays_in_week_nights                -0.127223  0.065237   \n",
              "meal                                 0.044658  0.059098   \n",
              "market_segment                      -0.165814  0.232763   \n",
              "distribution_channel                -0.069640  0.092396   \n",
              "is_repeated_guest                   -0.017111 -0.134314   \n",
              "previous_cancellations              -0.008188 -0.065646   \n",
              "previous_bookings_not_canceled      -0.012259 -0.072144   \n",
              "reserved_room_type                  -0.120978  0.392060   \n",
              "assigned_room_type                  -0.084427  0.258134   \n",
              "booking_changes                      0.092029  0.019618   \n",
              "agent                                0.099155 -0.125285   \n",
              "days_in_waiting_list                 0.099121 -0.040756   \n",
              "customer_type                        1.000000 -0.077155   \n",
              "adr                                 -0.077155  1.000000   \n",
              "required_car_parking_spaces         -0.030060  0.056628   \n",
              "total_of_special_requests           -0.135624  0.172185   \n",
              "reservation_status                   0.066004 -0.050520   \n",
              "is_family                           -0.060139  0.309360   \n",
              "total_customer                      -0.113232  0.368105   \n",
              "deposit_given                       -0.086745 -0.087608   \n",
              "total_nights                        -0.137577  0.067945   \n",
              "\n",
              "                                required_car_parking_spaces  \\\n",
              "hotel                                             -0.218873   \n",
              "is_canceled                                       -0.195498   \n",
              "lead_time                                         -0.116451   \n",
              "arrival_date_year                                 -0.013684   \n",
              "arrival_date_month                                 0.000257   \n",
              "arrival_date_week_number                           0.001920   \n",
              "arrival_date_day_of_month                          0.008683   \n",
              "stays_in_weekend_nights                           -0.018554   \n",
              "stays_in_week_nights                              -0.024859   \n",
              "meal                                              -0.038923   \n",
              "market_segment                                    -0.062226   \n",
              "distribution_channel                              -0.132280   \n",
              "is_repeated_guest                                  0.077090   \n",
              "previous_cancellations                            -0.018492   \n",
              "previous_bookings_not_canceled                     0.047653   \n",
              "reserved_room_type                                 0.131583   \n",
              "assigned_room_type                                 0.160131   \n",
              "booking_changes                                    0.065620   \n",
              "agent                                              0.168668   \n",
              "days_in_waiting_list                              -0.030600   \n",
              "customer_type                                     -0.030060   \n",
              "adr                                                0.056628   \n",
              "required_car_parking_spaces                        1.000000   \n",
              "total_of_special_requests                          0.082626   \n",
              "reservation_status                                 0.179310   \n",
              "is_family                                          0.069141   \n",
              "total_customer                                     0.047934   \n",
              "deposit_given                                     -0.094982   \n",
              "total_nights                                      -0.025794   \n",
              "\n",
              "                                total_of_special_requests  reservation_status  \\\n",
              "hotel                                           -0.043390           -0.124331   \n",
              "is_canceled                                     -0.234658           -0.917196   \n",
              "lead_time                                       -0.095712           -0.302175   \n",
              "arrival_date_year                                0.108531           -0.017683   \n",
              "arrival_date_month                               0.028026           -0.021090   \n",
              "arrival_date_week_number                         0.026149           -0.017387   \n",
              "arrival_date_day_of_month                        0.003062            0.011460   \n",
              "stays_in_weekend_nights                          0.072671            0.008558   \n",
              "stays_in_week_nights                             0.068192           -0.021607   \n",
              "meal                                             0.023136            0.015393   \n",
              "market_segment                                   0.274373           -0.061584   \n",
              "distribution_channel                             0.098815           -0.171330   \n",
              "is_repeated_guest                                0.013050            0.083504   \n",
              "previous_cancellations                          -0.048384           -0.110758   \n",
              "previous_bookings_not_canceled                   0.037824            0.055051   \n",
              "reserved_room_type                               0.137466            0.058693   \n",
              "assigned_room_type                               0.124683            0.172537   \n",
              "booking_changes                                  0.052833            0.140799   \n",
              "agent                                           -0.068690            0.126696   \n",
              "days_in_waiting_list                            -0.082730           -0.057927   \n",
              "customer_type                                   -0.135624            0.066004   \n",
              "adr                                              0.172185           -0.050520   \n",
              "required_car_parking_spaces                      0.082626            0.179310   \n",
              "total_of_special_requests                        1.000000            0.225674   \n",
              "reservation_status                               0.225674            1.000000   \n",
              "is_family                                        0.128205            0.013117   \n",
              "total_customer                                   0.156834           -0.055273   \n",
              "deposit_given                                   -0.268034           -0.478747   \n",
              "total_nights                                     0.079259           -0.012781   \n",
              "\n",
              "                                is_family  total_customer  deposit_given  \\\n",
              "hotel                           -0.058306       -0.040821       0.172003   \n",
              "is_canceled                     -0.013010        0.046522       0.481457   \n",
              "lead_time                       -0.043972        0.072265       0.380179   \n",
              "arrival_date_year                0.052711        0.052127      -0.065963   \n",
              "arrival_date_month               0.010427        0.027252       0.008746   \n",
              "arrival_date_week_number         0.010611        0.025220       0.007773   \n",
              "arrival_date_day_of_month        0.014710        0.006742      -0.008616   \n",
              "stays_in_weekend_nights          0.052306        0.101426      -0.114275   \n",
              "stays_in_week_nights             0.050424        0.101665      -0.079999   \n",
              "meal                            -0.041727       -0.005975      -0.090725   \n",
              "market_segment                   0.080450        0.213221      -0.183880   \n",
              "distribution_channel             0.000464        0.144357       0.102548   \n",
              "is_repeated_guest               -0.035127       -0.136748      -0.058423   \n",
              "previous_cancellations          -0.027262       -0.020058       0.143314   \n",
              "previous_bookings_not_canceled  -0.022815       -0.099097      -0.031509   \n",
              "reserved_room_type               0.323910        0.383357      -0.201348   \n",
              "assigned_room_type               0.292940        0.302422      -0.246602   \n",
              "booking_changes                  0.079121       -0.003173      -0.119333   \n",
              "agent                           -0.005386       -0.136454      -0.056529   \n",
              "days_in_waiting_list            -0.036312       -0.026431       0.120249   \n",
              "customer_type                   -0.060139       -0.113232      -0.086745   \n",
              "adr                              0.309360        0.368105      -0.087608   \n",
              "required_car_parking_spaces      0.069141        0.047934      -0.094982   \n",
              "total_of_special_requests        0.128205        0.156834      -0.268034   \n",
              "reservation_status               0.013117       -0.055273      -0.478747   \n",
              "is_family                        1.000000        0.579899      -0.106643   \n",
              "total_customer                   0.579899        1.000000      -0.080676   \n",
              "deposit_given                   -0.106643       -0.080676       1.000000   \n",
              "total_nights                     0.058049        0.115463      -0.104314   \n",
              "\n",
              "                                total_nights  \n",
              "hotel                              -0.247479  \n",
              "is_canceled                         0.017779  \n",
              "lead_time                           0.157167  \n",
              "arrival_date_year                   0.031438  \n",
              "arrival_date_month                  0.021536  \n",
              "arrival_date_week_number            0.018719  \n",
              "arrival_date_day_of_month          -0.027408  \n",
              "stays_in_weekend_nights             0.762790  \n",
              "stays_in_week_nights                0.941005  \n",
              "meal                                0.045277  \n",
              "market_segment                      0.126052  \n",
              "distribution_channel                0.101407  \n",
              "is_repeated_guest                  -0.106626  \n",
              "previous_cancellations             -0.015429  \n",
              "previous_bookings_not_canceled     -0.053049  \n",
              "reserved_room_type                  0.181296  \n",
              "assigned_room_type                  0.109042  \n",
              "booking_changes                     0.096498  \n",
              "agent                               0.004591  \n",
              "days_in_waiting_list               -0.022652  \n",
              "customer_type                      -0.137577  \n",
              "adr                                 0.067945  \n",
              "required_car_parking_spaces        -0.025794  \n",
              "total_of_special_requests           0.079259  \n",
              "reservation_status                 -0.012781  \n",
              "is_family                           0.058049  \n",
              "total_customer                      0.115463  \n",
              "deposit_given                      -0.104314  \n",
              "total_nights                        1.000000  \n",
              "\n",
              "[29 rows x 29 columns]"
            ],
            "text/html": [
              "\n",
              "  <div id=\"df-111671a1-14b6-4d0e-8f5b-d9a71a3f9554\">\n",
              "    <div class=\"colab-df-container\">\n",
              "      <div>\n",
              "<style scoped>\n",
              "    .dataframe tbody tr th:only-of-type {\n",
              "        vertical-align: middle;\n",
              "    }\n",
              "\n",
              "    .dataframe tbody tr th {\n",
              "        vertical-align: top;\n",
              "    }\n",
              "\n",
              "    .dataframe thead th {\n",
              "        text-align: right;\n",
              "    }\n",
              "</style>\n",
              "<table border=\"1\" class=\"dataframe\">\n",
              "  <thead>\n",
              "    <tr style=\"text-align: right;\">\n",
              "      <th></th>\n",
              "      <th>hotel</th>\n",
              "      <th>is_canceled</th>\n",
              "      <th>lead_time</th>\n",
              "      <th>arrival_date_year</th>\n",
              "      <th>arrival_date_month</th>\n",
              "      <th>arrival_date_week_number</th>\n",
              "      <th>arrival_date_day_of_month</th>\n",
              "      <th>stays_in_weekend_nights</th>\n",
              "      <th>stays_in_week_nights</th>\n",
              "      <th>meal</th>\n",
              "      <th>...</th>\n",
              "      <th>days_in_waiting_list</th>\n",
              "      <th>customer_type</th>\n",
              "      <th>adr</th>\n",
              "      <th>required_car_parking_spaces</th>\n",
              "      <th>total_of_special_requests</th>\n",
              "      <th>reservation_status</th>\n",
              "      <th>is_family</th>\n",
              "      <th>total_customer</th>\n",
              "      <th>deposit_given</th>\n",
              "      <th>total_nights</th>\n",
              "    </tr>\n",
              "  </thead>\n",
              "  <tbody>\n",
              "    <tr>\n",
              "      <th>hotel</th>\n",
              "      <td>1.000000</td>\n",
              "      <td>0.136531</td>\n",
              "      <td>0.075381</td>\n",
              "      <td>0.035267</td>\n",
              "      <td>0.001817</td>\n",
              "      <td>0.001270</td>\n",
              "      <td>-0.001862</td>\n",
              "      <td>-0.186596</td>\n",
              "      <td>-0.234020</td>\n",
              "      <td>0.008018</td>\n",
              "      <td>...</td>\n",
              "      <td>0.072432</td>\n",
              "      <td>0.047531</td>\n",
              "      <td>0.096719</td>\n",
              "      <td>-0.218873</td>\n",
              "      <td>-0.043390</td>\n",
              "      <td>-0.124331</td>\n",
              "      <td>-0.058306</td>\n",
              "      <td>-0.040821</td>\n",
              "      <td>0.172003</td>\n",
              "      <td>-0.247479</td>\n",
              "    </tr>\n",
              "    <tr>\n",
              "      <th>is_canceled</th>\n",
              "      <td>0.136531</td>\n",
              "      <td>1.000000</td>\n",
              "      <td>0.293123</td>\n",
              "      <td>0.016660</td>\n",
              "      <td>0.011022</td>\n",
              "      <td>0.008148</td>\n",
              "      <td>-0.006130</td>\n",
              "      <td>-0.001791</td>\n",
              "      <td>0.024765</td>\n",
              "      <td>-0.017678</td>\n",
              "      <td>...</td>\n",
              "      <td>0.054186</td>\n",
              "      <td>-0.068140</td>\n",
              "      <td>0.047557</td>\n",
              "      <td>-0.195498</td>\n",
              "      <td>-0.234658</td>\n",
              "      <td>-0.917196</td>\n",
              "      <td>-0.013010</td>\n",
              "      <td>0.046522</td>\n",
              "      <td>0.481457</td>\n",
              "      <td>0.017779</td>\n",
              "    </tr>\n",
              "    <tr>\n",
              "      <th>lead_time</th>\n",
              "      <td>0.075381</td>\n",
              "      <td>0.293123</td>\n",
              "      <td>1.000000</td>\n",
              "      <td>0.040142</td>\n",
              "      <td>0.131424</td>\n",
              "      <td>0.126871</td>\n",
              "      <td>0.002268</td>\n",
              "      <td>0.085671</td>\n",
              "      <td>0.165799</td>\n",
              "      <td>0.000349</td>\n",
              "      <td>...</td>\n",
              "      <td>0.170084</td>\n",
              "      <td>0.073403</td>\n",
              "      <td>-0.063077</td>\n",
              "      <td>-0.116451</td>\n",
              "      <td>-0.095712</td>\n",
              "      <td>-0.302175</td>\n",
              "      <td>-0.043972</td>\n",
              "      <td>0.072265</td>\n",
              "      <td>0.380179</td>\n",
              "      <td>0.157167</td>\n",
              "    </tr>\n",
              "    <tr>\n",
              "      <th>arrival_date_year</th>\n",
              "      <td>0.035267</td>\n",
              "      <td>0.016660</td>\n",
              "      <td>0.040142</td>\n",
              "      <td>1.000000</td>\n",
              "      <td>-0.527739</td>\n",
              "      <td>-0.540561</td>\n",
              "      <td>-0.000221</td>\n",
              "      <td>0.021497</td>\n",
              "      <td>0.030883</td>\n",
              "      <td>0.065840</td>\n",
              "      <td>...</td>\n",
              "      <td>-0.056497</td>\n",
              "      <td>-0.006149</td>\n",
              "      <td>0.197580</td>\n",
              "      <td>-0.013684</td>\n",
              "      <td>0.108531</td>\n",
              "      <td>-0.017683</td>\n",
              "      <td>0.052711</td>\n",
              "      <td>0.052127</td>\n",
              "      <td>-0.065963</td>\n",
              "      <td>0.031438</td>\n",
              "    </tr>\n",
              "    <tr>\n",
              "      <th>arrival_date_month</th>\n",
              "      <td>0.001817</td>\n",
              "      <td>0.011022</td>\n",
              "      <td>0.131424</td>\n",
              "      <td>-0.527739</td>\n",
              "      <td>1.000000</td>\n",
              "      <td>0.995105</td>\n",
              "      <td>-0.026063</td>\n",
              "      <td>0.018440</td>\n",
              "      <td>0.019212</td>\n",
              "      <td>-0.015205</td>\n",
              "      <td>...</td>\n",
              "      <td>0.019045</td>\n",
              "      <td>-0.029753</td>\n",
              "      <td>0.079315</td>\n",
              "      <td>0.000257</td>\n",
              "      <td>0.028026</td>\n",
              "      <td>-0.021090</td>\n",
              "      <td>0.010427</td>\n",
              "      <td>0.027252</td>\n",
              "      <td>0.008746</td>\n",
              "      <td>0.021536</td>\n",
              "    </tr>\n",
              "    <tr>\n",
              "      <th>arrival_date_week_number</th>\n",
              "      <td>0.001270</td>\n",
              "      <td>0.008148</td>\n",
              "      <td>0.126871</td>\n",
              "      <td>-0.540561</td>\n",
              "      <td>0.995105</td>\n",
              "      <td>1.000000</td>\n",
              "      <td>0.066809</td>\n",
              "      <td>0.018208</td>\n",
              "      <td>0.015558</td>\n",
              "      <td>-0.017381</td>\n",
              "      <td>...</td>\n",
              "      <td>0.022933</td>\n",
              "      <td>-0.028432</td>\n",
              "      <td>0.075791</td>\n",
              "      <td>0.001920</td>\n",
              "      <td>0.026149</td>\n",
              "      <td>-0.017387</td>\n",
              "      <td>0.010611</td>\n",
              "      <td>0.025220</td>\n",
              "      <td>0.007773</td>\n",
              "      <td>0.018719</td>\n",
              "    </tr>\n",
              "    <tr>\n",
              "      <th>arrival_date_day_of_month</th>\n",
              "      <td>-0.001862</td>\n",
              "      <td>-0.006130</td>\n",
              "      <td>0.002268</td>\n",
              "      <td>-0.000221</td>\n",
              "      <td>-0.026063</td>\n",
              "      <td>0.066809</td>\n",
              "      <td>1.000000</td>\n",
              "      <td>-0.016354</td>\n",
              "      <td>-0.028174</td>\n",
              "      <td>-0.007086</td>\n",
              "      <td>...</td>\n",
              "      <td>0.022728</td>\n",
              "      <td>0.012188</td>\n",
              "      <td>0.030245</td>\n",
              "      <td>0.008683</td>\n",
              "      <td>0.003062</td>\n",
              "      <td>0.011460</td>\n",
              "      <td>0.014710</td>\n",
              "      <td>0.006742</td>\n",
              "      <td>-0.008616</td>\n",
              "      <td>-0.027408</td>\n",
              "    </tr>\n",
              "    <tr>\n",
              "      <th>stays_in_weekend_nights</th>\n",
              "      <td>-0.186596</td>\n",
              "      <td>-0.001791</td>\n",
              "      <td>0.085671</td>\n",
              "      <td>0.021497</td>\n",
              "      <td>0.018440</td>\n",
              "      <td>0.018208</td>\n",
              "      <td>-0.016354</td>\n",
              "      <td>1.000000</td>\n",
              "      <td>0.498969</td>\n",
              "      <td>0.045744</td>\n",
              "      <td>...</td>\n",
              "      <td>-0.054151</td>\n",
              "      <td>-0.109220</td>\n",
              "      <td>0.049342</td>\n",
              "      <td>-0.018554</td>\n",
              "      <td>0.072671</td>\n",
              "      <td>0.008558</td>\n",
              "      <td>0.052306</td>\n",
              "      <td>0.101426</td>\n",
              "      <td>-0.114275</td>\n",
              "      <td>0.762790</td>\n",
              "    </tr>\n",
              "    <tr>\n",
              "      <th>stays_in_week_nights</th>\n",
              "      <td>-0.234020</td>\n",
              "      <td>0.024765</td>\n",
              "      <td>0.165799</td>\n",
              "      <td>0.030883</td>\n",
              "      <td>0.019212</td>\n",
              "      <td>0.015558</td>\n",
              "      <td>-0.028174</td>\n",
              "      <td>0.498969</td>\n",
              "      <td>1.000000</td>\n",
              "      <td>0.036742</td>\n",
              "      <td>...</td>\n",
              "      <td>-0.002020</td>\n",
              "      <td>-0.127223</td>\n",
              "      <td>0.065237</td>\n",
              "      <td>-0.024859</td>\n",
              "      <td>0.068192</td>\n",
              "      <td>-0.021607</td>\n",
              "      <td>0.050424</td>\n",
              "      <td>0.101665</td>\n",
              "      <td>-0.079999</td>\n",
              "      <td>0.941005</td>\n",
              "    </tr>\n",
              "    <tr>\n",
              "      <th>meal</th>\n",
              "      <td>0.008018</td>\n",
              "      <td>-0.017678</td>\n",
              "      <td>0.000349</td>\n",
              "      <td>0.065840</td>\n",
              "      <td>-0.015205</td>\n",
              "      <td>-0.017381</td>\n",
              "      <td>-0.007086</td>\n",
              "      <td>0.045744</td>\n",
              "      <td>0.036742</td>\n",
              "      <td>1.000000</td>\n",
              "      <td>...</td>\n",
              "      <td>-0.007132</td>\n",
              "      <td>0.044658</td>\n",
              "      <td>0.059098</td>\n",
              "      <td>-0.038923</td>\n",
              "      <td>0.023136</td>\n",
              "      <td>0.015393</td>\n",
              "      <td>-0.041727</td>\n",
              "      <td>-0.005975</td>\n",
              "      <td>-0.090725</td>\n",
              "      <td>0.045277</td>\n",
              "    </tr>\n",
              "    <tr>\n",
              "      <th>market_segment</th>\n",
              "      <td>0.083795</td>\n",
              "      <td>0.059338</td>\n",
              "      <td>0.013797</td>\n",
              "      <td>0.107697</td>\n",
              "      <td>0.001293</td>\n",
              "      <td>-0.000510</td>\n",
              "      <td>-0.004088</td>\n",
              "      <td>0.115350</td>\n",
              "      <td>0.108569</td>\n",
              "      <td>0.145132</td>\n",
              "      <td>...</td>\n",
              "      <td>-0.041503</td>\n",
              "      <td>-0.165814</td>\n",
              "      <td>0.232763</td>\n",
              "      <td>-0.062226</td>\n",
              "      <td>0.274373</td>\n",
              "      <td>-0.061584</td>\n",
              "      <td>0.080450</td>\n",
              "      <td>0.213221</td>\n",
              "      <td>-0.183880</td>\n",
              "      <td>0.126052</td>\n",
              "    </tr>\n",
              "    <tr>\n",
              "      <th>distribution_channel</th>\n",
              "      <td>0.174419</td>\n",
              "      <td>0.167600</td>\n",
              "      <td>0.220414</td>\n",
              "      <td>0.022644</td>\n",
              "      <td>0.007381</td>\n",
              "      <td>0.005699</td>\n",
              "      <td>0.001578</td>\n",
              "      <td>0.093097</td>\n",
              "      <td>0.087185</td>\n",
              "      <td>0.116957</td>\n",
              "      <td>...</td>\n",
              "      <td>0.048642</td>\n",
              "      <td>-0.069640</td>\n",
              "      <td>0.092396</td>\n",
              "      <td>-0.132280</td>\n",
              "      <td>0.098815</td>\n",
              "      <td>-0.171330</td>\n",
              "      <td>0.000464</td>\n",
              "      <td>0.144357</td>\n",
              "      <td>0.102548</td>\n",
              "      <td>0.101407</td>\n",
              "    </tr>\n",
              "    <tr>\n",
              "      <th>is_repeated_guest</th>\n",
              "      <td>-0.050421</td>\n",
              "      <td>-0.084793</td>\n",
              "      <td>-0.124410</td>\n",
              "      <td>0.010341</td>\n",
              "      <td>-0.030729</td>\n",
              "      <td>-0.030131</td>\n",
              "      <td>-0.006145</td>\n",
              "      <td>-0.087239</td>\n",
              "      <td>-0.097245</td>\n",
              "      <td>-0.057009</td>\n",
              "      <td>...</td>\n",
              "      <td>-0.022235</td>\n",
              "      <td>-0.017111</td>\n",
              "      <td>-0.134314</td>\n",
              "      <td>0.077090</td>\n",
              "      <td>0.013050</td>\n",
              "      <td>0.083504</td>\n",
              "      <td>-0.035127</td>\n",
              "      <td>-0.136748</td>\n",
              "      <td>-0.058423</td>\n",
              "      <td>-0.106626</td>\n",
              "    </tr>\n",
              "    <tr>\n",
              "      <th>previous_cancellations</th>\n",
              "      <td>-0.012292</td>\n",
              "      <td>0.110133</td>\n",
              "      <td>0.086042</td>\n",
              "      <td>-0.119822</td>\n",
              "      <td>0.037479</td>\n",
              "      <td>0.035501</td>\n",
              "      <td>-0.027011</td>\n",
              "      <td>-0.012775</td>\n",
              "      <td>-0.013992</td>\n",
              "      <td>-0.003772</td>\n",
              "      <td>...</td>\n",
              "      <td>0.005929</td>\n",
              "      <td>-0.008188</td>\n",
              "      <td>-0.065646</td>\n",
              "      <td>-0.018492</td>\n",
              "      <td>-0.048384</td>\n",
              "      <td>-0.110758</td>\n",
              "      <td>-0.027262</td>\n",
              "      <td>-0.020058</td>\n",
              "      <td>0.143314</td>\n",
              "      <td>-0.015429</td>\n",
              "    </tr>\n",
              "    <tr>\n",
              "      <th>previous_bookings_not_canceled</th>\n",
              "      <td>-0.004441</td>\n",
              "      <td>-0.057358</td>\n",
              "      <td>-0.073548</td>\n",
              "      <td>0.029218</td>\n",
              "      <td>-0.021640</td>\n",
              "      <td>-0.020904</td>\n",
              "      <td>-0.000300</td>\n",
              "      <td>-0.042715</td>\n",
              "      <td>-0.048743</td>\n",
              "      <td>-0.040417</td>\n",
              "      <td>...</td>\n",
              "      <td>-0.009397</td>\n",
              "      <td>-0.012259</td>\n",
              "      <td>-0.072144</td>\n",
              "      <td>0.047653</td>\n",
              "      <td>0.037824</td>\n",
              "      <td>0.055051</td>\n",
              "      <td>-0.022815</td>\n",
              "      <td>-0.099097</td>\n",
              "      <td>-0.031509</td>\n",
              "      <td>-0.053049</td>\n",
              "    </tr>\n",
              "    <tr>\n",
              "      <th>reserved_room_type</th>\n",
              "      <td>-0.249677</td>\n",
              "      <td>-0.061282</td>\n",
              "      <td>-0.106089</td>\n",
              "      <td>0.092809</td>\n",
              "      <td>-0.007923</td>\n",
              "      <td>-0.007997</td>\n",
              "      <td>0.016929</td>\n",
              "      <td>0.142083</td>\n",
              "      <td>0.168616</td>\n",
              "      <td>-0.120749</td>\n",
              "      <td>...</td>\n",
              "      <td>-0.068821</td>\n",
              "      <td>-0.120978</td>\n",
              "      <td>0.392060</td>\n",
              "      <td>0.131583</td>\n",
              "      <td>0.137466</td>\n",
              "      <td>0.058693</td>\n",
              "      <td>0.323910</td>\n",
              "      <td>0.383357</td>\n",
              "      <td>-0.201348</td>\n",
              "      <td>0.181296</td>\n",
              "    </tr>\n",
              "    <tr>\n",
              "      <th>assigned_room_type</th>\n",
              "      <td>-0.307834</td>\n",
              "      <td>-0.176028</td>\n",
              "      <td>-0.172219</td>\n",
              "      <td>0.036141</td>\n",
              "      <td>-0.006378</td>\n",
              "      <td>-0.005684</td>\n",
              "      <td>0.011646</td>\n",
              "      <td>0.086643</td>\n",
              "      <td>0.100795</td>\n",
              "      <td>-0.120792</td>\n",
              "      <td>...</td>\n",
              "      <td>-0.068676</td>\n",
              "      <td>-0.084427</td>\n",
              "      <td>0.258134</td>\n",
              "      <td>0.160131</td>\n",
              "      <td>0.124683</td>\n",
              "      <td>0.172537</td>\n",
              "      <td>0.292940</td>\n",
              "      <td>0.302422</td>\n",
              "      <td>-0.246602</td>\n",
              "      <td>0.109042</td>\n",
              "    </tr>\n",
              "    <tr>\n",
              "      <th>booking_changes</th>\n",
              "      <td>-0.072820</td>\n",
              "      <td>-0.144381</td>\n",
              "      <td>0.000149</td>\n",
              "      <td>0.030872</td>\n",
              "      <td>0.004809</td>\n",
              "      <td>0.005508</td>\n",
              "      <td>0.010613</td>\n",
              "      <td>0.063281</td>\n",
              "      <td>0.096209</td>\n",
              "      <td>0.024650</td>\n",
              "      <td>...</td>\n",
              "      <td>-0.011634</td>\n",
              "      <td>0.092029</td>\n",
              "      <td>0.019618</td>\n",
              "      <td>0.065620</td>\n",
              "      <td>0.052833</td>\n",
              "      <td>0.140799</td>\n",
              "      <td>0.079121</td>\n",
              "      <td>-0.003173</td>\n",
              "      <td>-0.119333</td>\n",
              "      <td>0.096498</td>\n",
              "    </tr>\n",
              "    <tr>\n",
              "      <th>agent</th>\n",
              "      <td>-0.559692</td>\n",
              "      <td>-0.130010</td>\n",
              "      <td>-0.183373</td>\n",
              "      <td>0.035281</td>\n",
              "      <td>-0.043978</td>\n",
              "      <td>-0.042837</td>\n",
              "      <td>0.003976</td>\n",
              "      <td>-0.016722</td>\n",
              "      <td>0.014903</td>\n",
              "      <td>-0.113765</td>\n",
              "      <td>...</td>\n",
              "      <td>-0.066239</td>\n",
              "      <td>0.099155</td>\n",
              "      <td>-0.125285</td>\n",
              "      <td>0.168668</td>\n",
              "      <td>-0.068690</td>\n",
              "      <td>0.126696</td>\n",
              "      <td>-0.005386</td>\n",
              "      <td>-0.136454</td>\n",
              "      <td>-0.056529</td>\n",
              "      <td>0.004591</td>\n",
              "    </tr>\n",
              "    <tr>\n",
              "      <th>days_in_waiting_list</th>\n",
              "      <td>0.072432</td>\n",
              "      <td>0.054186</td>\n",
              "      <td>0.170084</td>\n",
              "      <td>-0.056497</td>\n",
              "      <td>0.019045</td>\n",
              "      <td>0.022933</td>\n",
              "      <td>0.022728</td>\n",
              "      <td>-0.054151</td>\n",
              "      <td>-0.002020</td>\n",
              "      <td>-0.007132</td>\n",
              "      <td>...</td>\n",
              "      <td>1.000000</td>\n",
              "      <td>0.099121</td>\n",
              "      <td>-0.040756</td>\n",
              "      <td>-0.030600</td>\n",
              "      <td>-0.082730</td>\n",
              "      <td>-0.057927</td>\n",
              "      <td>-0.036312</td>\n",
              "      <td>-0.026431</td>\n",
              "      <td>0.120249</td>\n",
              "      <td>-0.022652</td>\n",
              "    </tr>\n",
              "    <tr>\n",
              "      <th>customer_type</th>\n",
              "      <td>0.047531</td>\n",
              "      <td>-0.068140</td>\n",
              "      <td>0.073403</td>\n",
              "      <td>-0.006149</td>\n",
              "      <td>-0.029753</td>\n",
              "      <td>-0.028432</td>\n",
              "      <td>0.012188</td>\n",
              "      <td>-0.109220</td>\n",
              "      <td>-0.127223</td>\n",
              "      <td>0.044658</td>\n",
              "      <td>...</td>\n",
              "      <td>0.099121</td>\n",
              "      <td>1.000000</td>\n",
              "      <td>-0.077155</td>\n",
              "      <td>-0.030060</td>\n",
              "      <td>-0.135624</td>\n",
              "      <td>0.066004</td>\n",
              "      <td>-0.060139</td>\n",
              "      <td>-0.113232</td>\n",
              "      <td>-0.086745</td>\n",
              "      <td>-0.137577</td>\n",
              "    </tr>\n",
              "    <tr>\n",
              "      <th>adr</th>\n",
              "      <td>0.096719</td>\n",
              "      <td>0.047557</td>\n",
              "      <td>-0.063077</td>\n",
              "      <td>0.197580</td>\n",
              "      <td>0.079315</td>\n",
              "      <td>0.075791</td>\n",
              "      <td>0.030245</td>\n",
              "      <td>0.049342</td>\n",
              "      <td>0.065237</td>\n",
              "      <td>0.059098</td>\n",
              "      <td>...</td>\n",
              "      <td>-0.040756</td>\n",
              "      <td>-0.077155</td>\n",
              "      <td>1.000000</td>\n",
              "      <td>0.056628</td>\n",
              "      <td>0.172185</td>\n",
              "      <td>-0.050520</td>\n",
              "      <td>0.309360</td>\n",
              "      <td>0.368105</td>\n",
              "      <td>-0.087608</td>\n",
              "      <td>0.067945</td>\n",
              "    </tr>\n",
              "    <tr>\n",
              "      <th>required_car_parking_spaces</th>\n",
              "      <td>-0.218873</td>\n",
              "      <td>-0.195498</td>\n",
              "      <td>-0.116451</td>\n",
              "      <td>-0.013684</td>\n",
              "      <td>0.000257</td>\n",
              "      <td>0.001920</td>\n",
              "      <td>0.008683</td>\n",
              "      <td>-0.018554</td>\n",
              "      <td>-0.024859</td>\n",
              "      <td>-0.038923</td>\n",
              "      <td>...</td>\n",
              "      <td>-0.030600</td>\n",
              "      <td>-0.030060</td>\n",
              "      <td>0.056628</td>\n",
              "      <td>1.000000</td>\n",
              "      <td>0.082626</td>\n",
              "      <td>0.179310</td>\n",
              "      <td>0.069141</td>\n",
              "      <td>0.047934</td>\n",
              "      <td>-0.094982</td>\n",
              "      <td>-0.025794</td>\n",
              "    </tr>\n",
              "    <tr>\n",
              "      <th>total_of_special_requests</th>\n",
              "      <td>-0.043390</td>\n",
              "      <td>-0.234658</td>\n",
              "      <td>-0.095712</td>\n",
              "      <td>0.108531</td>\n",
              "      <td>0.028026</td>\n",
              "      <td>0.026149</td>\n",
              "      <td>0.003062</td>\n",
              "      <td>0.072671</td>\n",
              "      <td>0.068192</td>\n",
              "      <td>0.023136</td>\n",
              "      <td>...</td>\n",
              "      <td>-0.082730</td>\n",
              "      <td>-0.135624</td>\n",
              "      <td>0.172185</td>\n",
              "      <td>0.082626</td>\n",
              "      <td>1.000000</td>\n",
              "      <td>0.225674</td>\n",
              "      <td>0.128205</td>\n",
              "      <td>0.156834</td>\n",
              "      <td>-0.268034</td>\n",
              "      <td>0.079259</td>\n",
              "    </tr>\n",
              "    <tr>\n",
              "      <th>reservation_status</th>\n",
              "      <td>-0.124331</td>\n",
              "      <td>-0.917196</td>\n",
              "      <td>-0.302175</td>\n",
              "      <td>-0.017683</td>\n",
              "      <td>-0.021090</td>\n",
              "      <td>-0.017387</td>\n",
              "      <td>0.011460</td>\n",
              "      <td>0.008558</td>\n",
              "      <td>-0.021607</td>\n",
              "      <td>0.015393</td>\n",
              "      <td>...</td>\n",
              "      <td>-0.057927</td>\n",
              "      <td>0.066004</td>\n",
              "      <td>-0.050520</td>\n",
              "      <td>0.179310</td>\n",
              "      <td>0.225674</td>\n",
              "      <td>1.000000</td>\n",
              "      <td>0.013117</td>\n",
              "      <td>-0.055273</td>\n",
              "      <td>-0.478747</td>\n",
              "      <td>-0.012781</td>\n",
              "    </tr>\n",
              "    <tr>\n",
              "      <th>is_family</th>\n",
              "      <td>-0.058306</td>\n",
              "      <td>-0.013010</td>\n",
              "      <td>-0.043972</td>\n",
              "      <td>0.052711</td>\n",
              "      <td>0.010427</td>\n",
              "      <td>0.010611</td>\n",
              "      <td>0.014710</td>\n",
              "      <td>0.052306</td>\n",
              "      <td>0.050424</td>\n",
              "      <td>-0.041727</td>\n",
              "      <td>...</td>\n",
              "      <td>-0.036312</td>\n",
              "      <td>-0.060139</td>\n",
              "      <td>0.309360</td>\n",
              "      <td>0.069141</td>\n",
              "      <td>0.128205</td>\n",
              "      <td>0.013117</td>\n",
              "      <td>1.000000</td>\n",
              "      <td>0.579899</td>\n",
              "      <td>-0.106643</td>\n",
              "      <td>0.058049</td>\n",
              "    </tr>\n",
              "    <tr>\n",
              "      <th>total_customer</th>\n",
              "      <td>-0.040821</td>\n",
              "      <td>0.046522</td>\n",
              "      <td>0.072265</td>\n",
              "      <td>0.052127</td>\n",
              "      <td>0.027252</td>\n",
              "      <td>0.025220</td>\n",
              "      <td>0.006742</td>\n",
              "      <td>0.101426</td>\n",
              "      <td>0.101665</td>\n",
              "      <td>-0.005975</td>\n",
              "      <td>...</td>\n",
              "      <td>-0.026431</td>\n",
              "      <td>-0.113232</td>\n",
              "      <td>0.368105</td>\n",
              "      <td>0.047934</td>\n",
              "      <td>0.156834</td>\n",
              "      <td>-0.055273</td>\n",
              "      <td>0.579899</td>\n",
              "      <td>1.000000</td>\n",
              "      <td>-0.080676</td>\n",
              "      <td>0.115463</td>\n",
              "    </tr>\n",
              "    <tr>\n",
              "      <th>deposit_given</th>\n",
              "      <td>0.172003</td>\n",
              "      <td>0.481457</td>\n",
              "      <td>0.380179</td>\n",
              "      <td>-0.065963</td>\n",
              "      <td>0.008746</td>\n",
              "      <td>0.007773</td>\n",
              "      <td>-0.008616</td>\n",
              "      <td>-0.114275</td>\n",
              "      <td>-0.079999</td>\n",
              "      <td>-0.090725</td>\n",
              "      <td>...</td>\n",
              "      <td>0.120249</td>\n",
              "      <td>-0.086745</td>\n",
              "      <td>-0.087608</td>\n",
              "      <td>-0.094982</td>\n",
              "      <td>-0.268034</td>\n",
              "      <td>-0.478747</td>\n",
              "      <td>-0.106643</td>\n",
              "      <td>-0.080676</td>\n",
              "      <td>1.000000</td>\n",
              "      <td>-0.104314</td>\n",
              "    </tr>\n",
              "    <tr>\n",
              "      <th>total_nights</th>\n",
              "      <td>-0.247479</td>\n",
              "      <td>0.017779</td>\n",
              "      <td>0.157167</td>\n",
              "      <td>0.031438</td>\n",
              "      <td>0.021536</td>\n",
              "      <td>0.018719</td>\n",
              "      <td>-0.027408</td>\n",
              "      <td>0.762790</td>\n",
              "      <td>0.941005</td>\n",
              "      <td>0.045277</td>\n",
              "      <td>...</td>\n",
              "      <td>-0.022652</td>\n",
              "      <td>-0.137577</td>\n",
              "      <td>0.067945</td>\n",
              "      <td>-0.025794</td>\n",
              "      <td>0.079259</td>\n",
              "      <td>-0.012781</td>\n",
              "      <td>0.058049</td>\n",
              "      <td>0.115463</td>\n",
              "      <td>-0.104314</td>\n",
              "      <td>1.000000</td>\n",
              "    </tr>\n",
              "  </tbody>\n",
              "</table>\n",
              "<p>29 rows × 29 columns</p>\n",
              "</div>\n",
              "      <button class=\"colab-df-convert\" onclick=\"convertToInteractive('df-111671a1-14b6-4d0e-8f5b-d9a71a3f9554')\"\n",
              "              title=\"Convert this dataframe to an interactive table.\"\n",
              "              style=\"display:none;\">\n",
              "        \n",
              "  <svg xmlns=\"http://www.w3.org/2000/svg\" height=\"24px\"viewBox=\"0 0 24 24\"\n",
              "       width=\"24px\">\n",
              "    <path d=\"M0 0h24v24H0V0z\" fill=\"none\"/>\n",
              "    <path d=\"M18.56 5.44l.94 2.06.94-2.06 2.06-.94-2.06-.94-.94-2.06-.94 2.06-2.06.94zm-11 1L8.5 8.5l.94-2.06 2.06-.94-2.06-.94L8.5 2.5l-.94 2.06-2.06.94zm10 10l.94 2.06.94-2.06 2.06-.94-2.06-.94-.94-2.06-.94 2.06-2.06.94z\"/><path d=\"M17.41 7.96l-1.37-1.37c-.4-.4-.92-.59-1.43-.59-.52 0-1.04.2-1.43.59L10.3 9.45l-7.72 7.72c-.78.78-.78 2.05 0 2.83L4 21.41c.39.39.9.59 1.41.59.51 0 1.02-.2 1.41-.59l7.78-7.78 2.81-2.81c.8-.78.8-2.07 0-2.86zM5.41 20L4 18.59l7.72-7.72 1.47 1.35L5.41 20z\"/>\n",
              "  </svg>\n",
              "      </button>\n",
              "      \n",
              "  <style>\n",
              "    .colab-df-container {\n",
              "      display:flex;\n",
              "      flex-wrap:wrap;\n",
              "      gap: 12px;\n",
              "    }\n",
              "\n",
              "    .colab-df-convert {\n",
              "      background-color: #E8F0FE;\n",
              "      border: none;\n",
              "      border-radius: 50%;\n",
              "      cursor: pointer;\n",
              "      display: none;\n",
              "      fill: #1967D2;\n",
              "      height: 32px;\n",
              "      padding: 0 0 0 0;\n",
              "      width: 32px;\n",
              "    }\n",
              "\n",
              "    .colab-df-convert:hover {\n",
              "      background-color: #E2EBFA;\n",
              "      box-shadow: 0px 1px 2px rgba(60, 64, 67, 0.3), 0px 1px 3px 1px rgba(60, 64, 67, 0.15);\n",
              "      fill: #174EA6;\n",
              "    }\n",
              "\n",
              "    [theme=dark] .colab-df-convert {\n",
              "      background-color: #3B4455;\n",
              "      fill: #D2E3FC;\n",
              "    }\n",
              "\n",
              "    [theme=dark] .colab-df-convert:hover {\n",
              "      background-color: #434B5C;\n",
              "      box-shadow: 0px 1px 3px 1px rgba(0, 0, 0, 0.15);\n",
              "      filter: drop-shadow(0px 1px 2px rgba(0, 0, 0, 0.3));\n",
              "      fill: #FFFFFF;\n",
              "    }\n",
              "  </style>\n",
              "\n",
              "      <script>\n",
              "        const buttonEl =\n",
              "          document.querySelector('#df-111671a1-14b6-4d0e-8f5b-d9a71a3f9554 button.colab-df-convert');\n",
              "        buttonEl.style.display =\n",
              "          google.colab.kernel.accessAllowed ? 'block' : 'none';\n",
              "\n",
              "        async function convertToInteractive(key) {\n",
              "          const element = document.querySelector('#df-111671a1-14b6-4d0e-8f5b-d9a71a3f9554');\n",
              "          const dataTable =\n",
              "            await google.colab.kernel.invokeFunction('convertToInteractive',\n",
              "                                                     [key], {});\n",
              "          if (!dataTable) return;\n",
              "\n",
              "          const docLinkHtml = 'Like what you see? Visit the ' +\n",
              "            '<a target=\"_blank\" href=https://colab.research.google.com/notebooks/data_table.ipynb>data table notebook</a>'\n",
              "            + ' to learn more about interactive tables.';\n",
              "          element.innerHTML = '';\n",
              "          dataTable['output_type'] = 'display_data';\n",
              "          await google.colab.output.renderOutput(dataTable, element);\n",
              "          const docLink = document.createElement('div');\n",
              "          docLink.innerHTML = docLinkHtml;\n",
              "          element.appendChild(docLink);\n",
              "        }\n",
              "      </script>\n",
              "    </div>\n",
              "  </div>\n",
              "  "
            ]
          },
          "metadata": {},
          "execution_count": 41
        }
      ]
    },
    {
      "cell_type": "markdown",
      "source": [
        "Reordenamos los valores de la característica is_canceled dentro de la correlación para observarla. Como se puede apreciar, esta columna tiene mucho impacto."
      ],
      "metadata": {
        "id": "Fkb6oCB7yegh"
      }
    },
    {
      "cell_type": "code",
      "source": [
        "cor_data.corr()[\"is_canceled\"].sort_values()"
      ],
      "metadata": {
        "colab": {
          "base_uri": "https://localhost:8080/"
        },
        "id": "xVPFFMe1Wa1T",
        "outputId": "3e600fd2-9581-40aa-cd8b-dbc817cab57e"
      },
      "execution_count": null,
      "outputs": [
        {
          "output_type": "execute_result",
          "data": {
            "text/plain": [
              "reservation_status               -0.917196\n",
              "total_of_special_requests        -0.234658\n",
              "required_car_parking_spaces      -0.195498\n",
              "assigned_room_type               -0.176028\n",
              "booking_changes                  -0.144381\n",
              "agent                            -0.130010\n",
              "is_repeated_guest                -0.084793\n",
              "customer_type                    -0.068140\n",
              "reserved_room_type               -0.061282\n",
              "previous_bookings_not_canceled   -0.057358\n",
              "meal                             -0.017678\n",
              "is_family                        -0.013010\n",
              "arrival_date_day_of_month        -0.006130\n",
              "stays_in_weekend_nights          -0.001791\n",
              "arrival_date_week_number          0.008148\n",
              "arrival_date_month                0.011022\n",
              "arrival_date_year                 0.016660\n",
              "total_nights                      0.017779\n",
              "stays_in_week_nights              0.024765\n",
              "total_customer                    0.046522\n",
              "adr                               0.047557\n",
              "days_in_waiting_list              0.054186\n",
              "market_segment                    0.059338\n",
              "previous_cancellations            0.110133\n",
              "hotel                             0.136531\n",
              "distribution_channel              0.167600\n",
              "lead_time                         0.293123\n",
              "deposit_given                     0.481457\n",
              "is_canceled                       1.000000\n",
              "Name: is_canceled, dtype: float64"
            ]
          },
          "metadata": {},
          "execution_count": 42
        }
      ]
    },
    {
      "cell_type": "markdown",
      "source": [
        "Observamos la correlación con la columna stays_in_week_nights"
      ],
      "metadata": {
        "id": "iNxb7sawy8Kn"
      }
    },
    {
      "cell_type": "code",
      "source": [
        "cor_data.corr()['stays_in_week_nights']"
      ],
      "metadata": {
        "colab": {
          "base_uri": "https://localhost:8080/"
        },
        "id": "OwNwwNWpWemH",
        "outputId": "fa94b720-05e5-45f3-9ed5-bada5dd5f8b0"
      },
      "execution_count": null,
      "outputs": [
        {
          "output_type": "execute_result",
          "data": {
            "text/plain": [
              "hotel                            -0.234020\n",
              "is_canceled                       0.024765\n",
              "lead_time                         0.165799\n",
              "arrival_date_year                 0.030883\n",
              "arrival_date_month                0.019212\n",
              "arrival_date_week_number          0.015558\n",
              "arrival_date_day_of_month        -0.028174\n",
              "stays_in_weekend_nights           0.498969\n",
              "stays_in_week_nights              1.000000\n",
              "meal                              0.036742\n",
              "market_segment                    0.108569\n",
              "distribution_channel              0.087185\n",
              "is_repeated_guest                -0.097245\n",
              "previous_cancellations           -0.013992\n",
              "previous_bookings_not_canceled   -0.048743\n",
              "reserved_room_type                0.168616\n",
              "assigned_room_type                0.100795\n",
              "booking_changes                   0.096209\n",
              "agent                             0.014903\n",
              "days_in_waiting_list             -0.002020\n",
              "customer_type                    -0.127223\n",
              "adr                               0.065237\n",
              "required_car_parking_spaces      -0.024859\n",
              "total_of_special_requests         0.068192\n",
              "reservation_status               -0.021607\n",
              "is_family                         0.050424\n",
              "total_customer                    0.101665\n",
              "deposit_given                    -0.079999\n",
              "total_nights                      0.941005\n",
              "Name: stays_in_week_nights, dtype: float64"
            ]
          },
          "metadata": {},
          "execution_count": 43
        }
      ]
    },
    {
      "cell_type": "markdown",
      "source": [
        "Eliminamos las columnas total_nights, arrival_date_week_number, stays_in_weekend_nights, arrival_date_month y agent, ya que no tendría mucho impacto"
      ],
      "metadata": {
        "id": "5_daI5EFy6Pm"
      }
    },
    {
      "cell_type": "code",
      "source": [
        "cor_data = cor_data.drop(columns = ['total_nights', 'arrival_date_week_number', 'stays_in_weekend_nights', 'arrival_date_month', 'agent'], axis = 1)"
      ],
      "metadata": {
        "id": "jvB7rRyfWt5e"
      },
      "execution_count": null,
      "outputs": []
    },
    {
      "cell_type": "markdown",
      "source": [
        "Borramos los datos vacías de Country"
      ],
      "metadata": {
        "id": "EC-Bf9-0zY_A"
      }
    },
    {
      "cell_type": "code",
      "source": [
        "indices = cor_data.loc[pd.isna(cor_data[\"country\"]), :].index \n",
        "cor_data = cor_data.drop(cor_data.index[indices])   \n",
        "cor_data.isnull().sum()"
      ],
      "metadata": {
        "id": "1j55WA31Wu6o",
        "colab": {
          "base_uri": "https://localhost:8080/"
        },
        "outputId": "57c2f3f1-4156-424b-ebe5-7a3a3ce3e6b3"
      },
      "execution_count": null,
      "outputs": [
        {
          "output_type": "execute_result",
          "data": {
            "text/plain": [
              "hotel                             0\n",
              "is_canceled                       0\n",
              "lead_time                         0\n",
              "arrival_date_year                 0\n",
              "arrival_date_day_of_month         0\n",
              "stays_in_week_nights              0\n",
              "meal                              0\n",
              "country                           0\n",
              "market_segment                    0\n",
              "distribution_channel              0\n",
              "is_repeated_guest                 0\n",
              "previous_cancellations            0\n",
              "previous_bookings_not_canceled    0\n",
              "reserved_room_type                0\n",
              "assigned_room_type                0\n",
              "booking_changes                   0\n",
              "days_in_waiting_list              0\n",
              "customer_type                     0\n",
              "adr                               0\n",
              "required_car_parking_spaces       0\n",
              "total_of_special_requests         0\n",
              "reservation_status                0\n",
              "is_family                         0\n",
              "total_customer                    0\n",
              "deposit_given                     0\n",
              "dtype: int64"
            ]
          },
          "metadata": {},
          "execution_count": 45
        }
      ]
    },
    {
      "cell_type": "markdown",
      "source": [
        "Una vez tomada las decisiones sobre qué hacer con los datos, vuelvo a data para seguir trabajando con ello"
      ],
      "metadata": {
        "id": "P8NRPETuzjez"
      }
    },
    {
      "cell_type": "code",
      "source": [
        "indices = data.loc[pd.isna(data[\"country\"]), :].index \n",
        "data = data.drop(data.index[indices])   \n",
        "data = data.drop(columns = ['arrival_date_week_number', 'stays_in_weekend_nights', 'arrival_date_month', 'agent'], axis = 1)"
      ],
      "metadata": {
        "id": "GTHRYwymW2NY"
      },
      "execution_count": null,
      "outputs": []
    },
    {
      "cell_type": "markdown",
      "source": [
        "Hago un muestreo de las columnas de data"
      ],
      "metadata": {
        "id": "8Ywhs4RZzy6j"
      }
    },
    {
      "cell_type": "code",
      "source": [
        "data.columns"
      ],
      "metadata": {
        "colab": {
          "base_uri": "https://localhost:8080/"
        },
        "id": "MglJjNDZW3DK",
        "outputId": "8cbbf313-cf12-4630-9cea-7decee47b7c6"
      },
      "execution_count": null,
      "outputs": [
        {
          "output_type": "execute_result",
          "data": {
            "text/plain": [
              "Index(['hotel', 'is_canceled', 'lead_time', 'arrival_date_year',\n",
              "       'arrival_date_day_of_month', 'stays_in_week_nights', 'meal', 'country',\n",
              "       'market_segment', 'distribution_channel', 'is_repeated_guest',\n",
              "       'previous_cancellations', 'previous_bookings_not_canceled',\n",
              "       'reserved_room_type', 'assigned_room_type', 'booking_changes',\n",
              "       'days_in_waiting_list', 'customer_type', 'adr',\n",
              "       'required_car_parking_spaces', 'total_of_special_requests',\n",
              "       'reservation_status', 'is_family', 'total_customer', 'deposit_given',\n",
              "       'total_nights'],\n",
              "      dtype='object')"
            ]
          },
          "metadata": {},
          "execution_count": 47
        }
      ]
    },
    {
      "cell_type": "markdown",
      "source": [
        "Realizamos una copia de data para continuar trabajando"
      ],
      "metadata": {
        "id": "IsXFv-d5z17y"
      }
    },
    {
      "cell_type": "code",
      "source": [
        "df1 = data.copy()"
      ],
      "metadata": {
        "id": "-GfwAEQ_W-1V"
      },
      "execution_count": null,
      "outputs": []
    },
    {
      "cell_type": "markdown",
      "source": [
        "Realizamos el one hot encoding"
      ],
      "metadata": {
        "id": "n5hxs5BNz5ET"
      }
    },
    {
      "cell_type": "code",
      "source": [
        "df1 = pd.get_dummies(data = df1, columns = ['meal', 'market_segment', 'distribution_channel',\n",
        "                                            'reserved_room_type', 'assigned_room_type', 'customer_type', 'reservation_status'])"
      ],
      "metadata": {
        "id": "9hZ2Wb4qXBX1"
      },
      "execution_count": null,
      "outputs": []
    },
    {
      "cell_type": "markdown",
      "source": [
        "Usamos le para etiquetar Country"
      ],
      "metadata": {
        "id": "W-N50ZLSz8TK"
      }
    },
    {
      "cell_type": "code",
      "source": [
        "df1['country'] = le.fit_transform(df1['country']) "
      ],
      "metadata": {
        "id": "iN1b1P0YXEOE"
      },
      "execution_count": null,
      "outputs": []
    },
    {
      "cell_type": "markdown",
      "source": [
        "Creamos df2, eliminando las columnas reservation_status_Canceled, reservation_status_Check-Out y reservation_status_No-Show para continuar trabajando sobre nuestros datos"
      ],
      "metadata": {
        "id": "WjuGflICz_-t"
      }
    },
    {
      "cell_type": "code",
      "source": [
        "df2 = df1.drop(columns = ['reservation_status_Canceled', 'reservation_status_Check-Out', 'reservation_status_No-Show'], axis = 1)"
      ],
      "metadata": {
        "id": "efb0dHLOvGRN"
      },
      "execution_count": null,
      "outputs": []
    },
    {
      "cell_type": "markdown",
      "source": [
        "Realizamos la separación de datos. Para esta práctica, he hecho una separación de 70/30, y he utilizado la semilla aleatoria 42"
      ],
      "metadata": {
        "id": "J9-Ad6Jh0I-l"
      }
    },
    {
      "cell_type": "code",
      "source": [
        "y = df2[\"is_canceled\"]\n",
        "X = df2.drop([\"is_canceled\"], axis=1)\n",
        "\n",
        "X_train, X_test, y_train, y_test = train_test_split(X, y, test_size = 0.30, random_state = 42)"
      ],
      "metadata": {
        "id": "rVMyAMi_vHr-"
      },
      "execution_count": null,
      "outputs": []
    },
    {
      "cell_type": "markdown",
      "source": [
        "Creo dos funciones, una para aplicar la matriz de confusión y otra para mostrar la curva ROC"
      ],
      "metadata": {
        "id": "WQnElkio0TPk"
      }
    },
    {
      "cell_type": "code",
      "source": [
        "def model(algorithm, X_train, X_test, y_train, y_test):\n",
        "    alg = algorithm\n",
        "    alg_model = alg.fit(X_train, y_train)\n",
        "    global y_prob, y_pred\n",
        "    y_prob = alg.predict_proba(X_test)[:,1]\n",
        "    y_pred = alg_model.predict(X_test)\n",
        "\n",
        "    print('Accuracy Score: {}\\n\\nConfusion Matrix:\\n {}'\n",
        "      .format(accuracy_score(y_test,y_pred), confusion_matrix(y_test,y_pred)))\n",
        "    \n",
        "\n",
        "def ROC(y_test, y_prob):\n",
        "    \n",
        "    false_positive_rate, true_positive_rate, threshold = roc_curve(y_test, y_prob)\n",
        "    roc_auc = auc(false_positive_rate, true_positive_rate)\n",
        "    \n",
        "    plt.figure(figsize = (10,10))\n",
        "    plt.title('Receiver Operating Characteristic')\n",
        "    plt.plot(false_positive_rate, true_positive_rate, color = 'red', label = 'AUC = %0.2f' % roc_auc)\n",
        "    plt.legend(loc = 'lower right')\n",
        "    plt.plot([0, 1], [0, 1], linestyle = '--')\n",
        "    plt.axis('tight')\n",
        "    plt.ylabel('True Positive Rate')\n",
        "    plt.xlabel('False Positive Rate')"
      ],
      "metadata": {
        "id": "-cIFEIgwXu_j"
      },
      "execution_count": null,
      "outputs": []
    },
    {
      "cell_type": "markdown",
      "source": [
        "# Creación del modelo y entrenamiento de la Red Neuronal"
      ],
      "metadata": {
        "id": "pWzbnHUe0aZ7"
      }
    },
    {
      "cell_type": "code",
      "source": [
        "scaler = StandardScaler()\n",
        "scaler.fit(X_train)\n",
        "X_train_scaled = scaler.transform(X_train)\n",
        "X_test_scaled = scaler.transform(X_test)"
      ],
      "metadata": {
        "id": "4n5Oab1AXQtl"
      },
      "execution_count": null,
      "outputs": []
    },
    {
      "cell_type": "code",
      "source": [
        "print('Model: Neural Network\\n')\n",
        "model(MLPClassifier(), X_train_scaled, X_test_scaled, y_train, y_test)"
      ],
      "metadata": {
        "colab": {
          "base_uri": "https://localhost:8080/"
        },
        "id": "SUR-0Q8KXfJy",
        "outputId": "72314a2f-8fda-4cd8-a507-e554a537371d"
      },
      "execution_count": null,
      "outputs": [
        {
          "output_type": "stream",
          "name": "stdout",
          "text": [
            "Model: Neural Network\n",
            "\n",
            "Accuracy Score: 0.8513358190126433\n",
            "\n",
            "Confusion Matrix:\n",
            " [[19831  2522]\n",
            " [ 2781 10537]]\n"
          ]
        }
      ]
    },
    {
      "cell_type": "code",
      "source": [
        "ROC(y_test, y_prob)"
      ],
      "metadata": {
        "colab": {
          "base_uri": "https://localhost:8080/",
          "height": 627
        },
        "id": "R0qqJV67X7nq",
        "outputId": "5f3985ee-7376-4c83-edd8-abbb07df96bd"
      },
      "execution_count": null,
      "outputs": [
        {
          "output_type": "display_data",
          "data": {
            "text/plain": [
              "<Figure size 720x720 with 1 Axes>"
            ],
            "image/png": "[encoded data removed]"
          },
          "metadata": {}
        }
      ]
    }
  ]
}